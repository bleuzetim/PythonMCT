{
 "cells": [
  {
   "cell_type": "markdown",
   "id": "92892479",
   "metadata": {},
   "source": [
    "# <span style=\"color:darkorange\"> Labo 03 Centrum- & spreidingsmaten in python opgave"
   ]
  },
  {
   "cell_type": "code",
   "execution_count": 29,
   "id": "e5f67f8b",
   "metadata": {},
   "outputs": [],
   "source": [
    "%matplotlib inline\n",
    "import pandas as pd\n",
    "import matplotlib.pyplot as plt\n",
    "import numpy as np\n",
    "import seaborn as sns\n",
    "sns.set_style('darkgrid')\n",
    "pd.set_option('display.max_rows',1000)\n",
    "pd.set_option('display.max_columns',1000)"
   ]
  },
  {
   "cell_type": "markdown",
   "id": "b72c7373",
   "metadata": {},
   "source": [
    "De dataset die in deze opdracht gebruikt wordt is een dataset genaamd **Penguins_preprocessed.csv**. Deze dataset bevat dataset bevat de data van verschillende pinguïns. Deze dataset is origineel bedoeld om te kijken of het mogelijk is om te voorspellen tot welke soort een pinguïns behoort aan de hand van de andere variabelen.\n",
    "\n",
    "<img src='penguins.jpg'>\n",
    "\n",
    "<br />\n",
    "\n",
    "| Variable | Beschrijving |\n",
    "| --- | --- | \n",
    "|studyName \t|De studie waar de data van de penguin oorspronkelijk vandaan komt. |\n",
    "|Sample Number|\tEen unieke ID die iedere penguin die in het onderzoek voorkomt krijgt.\n",
    "|Species |\t De soorten penguins die voorkomen in de dataset.|\n",
    "|Island | Het eiland waar de penguin geobserveerd werd.|\n",
    "|Clutch Completion | Of er minstens 1 eitje uit het nest uitgekomen is.|\n",
    "|Culmen Length (mm) |\tDe lengte van de snavel in millimeter. |\n",
    "|Culmen Depth (mm) | De diepte van de snavel in millimeter. |\n",
    "|Flipper Length (mm)  \t| De lengte van de vin in millimeter. |\n",
    "|Body Mass (g) | Het gewicht van de penguin in gram. |\n",
    "|Sex | Het geslacht (binair: 1 - vrouw or 0 - man)|\n",
    "|Comments | Specifieke commentaar die bij een bepaalde penguin hoort.|\n",
    "\n",
    "<br />   \n",
    "lees de dataset in en toon de eerste 7 rijen"
   ]
  },
  {
   "cell_type": "code",
   "execution_count": 30,
   "id": "140e72b4",
   "metadata": {
    "scrolled": true
   },
   "outputs": [
    {
     "data": {
      "text/html": [
       "<div>\n",
       "<style scoped>\n",
       "    .dataframe tbody tr th:only-of-type {\n",
       "        vertical-align: middle;\n",
       "    }\n",
       "\n",
       "    .dataframe tbody tr th {\n",
       "        vertical-align: top;\n",
       "    }\n",
       "\n",
       "    .dataframe thead th {\n",
       "        text-align: right;\n",
       "    }\n",
       "</style>\n",
       "<table border=\"1\" class=\"dataframe\">\n",
       "  <thead>\n",
       "    <tr style=\"text-align: right;\">\n",
       "      <th></th>\n",
       "      <th>Species</th>\n",
       "      <th>Island</th>\n",
       "      <th>Clutch Completion</th>\n",
       "      <th>Culmen Length (mm)</th>\n",
       "      <th>Culmen Depth (mm)</th>\n",
       "      <th>Flipper Length (mm)</th>\n",
       "      <th>Body Mass (g)</th>\n",
       "      <th>Sex</th>\n",
       "    </tr>\n",
       "  </thead>\n",
       "  <tbody>\n",
       "    <tr>\n",
       "      <th>0</th>\n",
       "      <td>Adelie Penguin</td>\n",
       "      <td>Torgersen</td>\n",
       "      <td>Yes</td>\n",
       "      <td>39.1</td>\n",
       "      <td>18.7</td>\n",
       "      <td>181.0</td>\n",
       "      <td>3750.0</td>\n",
       "      <td>0</td>\n",
       "    </tr>\n",
       "    <tr>\n",
       "      <th>1</th>\n",
       "      <td>Adelie Penguin</td>\n",
       "      <td>Torgersen</td>\n",
       "      <td>Yes</td>\n",
       "      <td>39.5</td>\n",
       "      <td>17.4</td>\n",
       "      <td>186.0</td>\n",
       "      <td>3800.0</td>\n",
       "      <td>1</td>\n",
       "    </tr>\n",
       "    <tr>\n",
       "      <th>2</th>\n",
       "      <td>Adelie Penguin</td>\n",
       "      <td>Torgersen</td>\n",
       "      <td>Yes</td>\n",
       "      <td>40.3</td>\n",
       "      <td>18.0</td>\n",
       "      <td>195.0</td>\n",
       "      <td>3250.0</td>\n",
       "      <td>1</td>\n",
       "    </tr>\n",
       "    <tr>\n",
       "      <th>3</th>\n",
       "      <td>Adelie Penguin</td>\n",
       "      <td>Torgersen</td>\n",
       "      <td>Yes</td>\n",
       "      <td>36.7</td>\n",
       "      <td>19.3</td>\n",
       "      <td>193.0</td>\n",
       "      <td>3450.0</td>\n",
       "      <td>1</td>\n",
       "    </tr>\n",
       "    <tr>\n",
       "      <th>4</th>\n",
       "      <td>Adelie Penguin</td>\n",
       "      <td>Torgersen</td>\n",
       "      <td>Yes</td>\n",
       "      <td>39.3</td>\n",
       "      <td>20.6</td>\n",
       "      <td>190.0</td>\n",
       "      <td>3650.0</td>\n",
       "      <td>0</td>\n",
       "    </tr>\n",
       "    <tr>\n",
       "      <th>5</th>\n",
       "      <td>Adelie Penguin</td>\n",
       "      <td>Torgersen</td>\n",
       "      <td>No</td>\n",
       "      <td>38.9</td>\n",
       "      <td>17.8</td>\n",
       "      <td>181.0</td>\n",
       "      <td>3625.0</td>\n",
       "      <td>1</td>\n",
       "    </tr>\n",
       "    <tr>\n",
       "      <th>6</th>\n",
       "      <td>Adelie Penguin</td>\n",
       "      <td>Torgersen</td>\n",
       "      <td>No</td>\n",
       "      <td>39.2</td>\n",
       "      <td>19.6</td>\n",
       "      <td>195.0</td>\n",
       "      <td>4675.0</td>\n",
       "      <td>0</td>\n",
       "    </tr>\n",
       "  </tbody>\n",
       "</table>\n",
       "</div>"
      ],
      "text/plain": [
       "          Species     Island Clutch Completion  Culmen Length (mm)  \\\n",
       "0  Adelie Penguin  Torgersen               Yes                39.1   \n",
       "1  Adelie Penguin  Torgersen               Yes                39.5   \n",
       "2  Adelie Penguin  Torgersen               Yes                40.3   \n",
       "3  Adelie Penguin  Torgersen               Yes                36.7   \n",
       "4  Adelie Penguin  Torgersen               Yes                39.3   \n",
       "5  Adelie Penguin  Torgersen                No                38.9   \n",
       "6  Adelie Penguin  Torgersen                No                39.2   \n",
       "\n",
       "   Culmen Depth (mm)  Flipper Length (mm)  Body Mass (g)  Sex  \n",
       "0               18.7                181.0         3750.0    0  \n",
       "1               17.4                186.0         3800.0    1  \n",
       "2               18.0                195.0         3250.0    1  \n",
       "3               19.3                193.0         3450.0    1  \n",
       "4               20.6                190.0         3650.0    0  \n",
       "5               17.8                181.0         3625.0    1  \n",
       "6               19.6                195.0         4675.0    0  "
      ]
     },
     "execution_count": 30,
     "metadata": {},
     "output_type": "execute_result"
    }
   ],
   "source": [
    "#dataset inlezen\n",
    "df = pd.read_csv('penguins_preprocessed.csv')\n",
    "df.head(7)"
   ]
  },
  {
   "cell_type": "markdown",
   "id": "9401b486",
   "metadata": {},
   "source": [
    "Hoeveel pinguïns zijn er in de dataset?"
   ]
  },
  {
   "cell_type": "code",
   "execution_count": 31,
   "id": "3384f644",
   "metadata": {},
   "outputs": [
    {
     "data": {
      "text/plain": [
       "Species                333\n",
       "Island                 333\n",
       "Clutch Completion      333\n",
       "Culmen Length (mm)     333\n",
       "Culmen Depth (mm)      333\n",
       "Flipper Length (mm)    333\n",
       "Body Mass (g)          333\n",
       "Sex                    333\n",
       "dtype: int64"
      ]
     },
     "execution_count": 31,
     "metadata": {},
     "output_type": "execute_result"
    }
   ],
   "source": [
    "df.count()"
   ]
  },
  {
   "cell_type": "markdown",
   "id": "5b848de4",
   "metadata": {},
   "source": [
    "Wat is het maximum gewicht van de penguings, is dit een mannetje of en vrouwtje?"
   ]
  },
  {
   "cell_type": "code",
   "execution_count": 32,
   "id": "c76aa82f",
   "metadata": {},
   "outputs": [
    {
     "data": {
      "text/plain": [
       "231    0\n",
       "Name: Sex, dtype: int64"
      ]
     },
     "execution_count": 32,
     "metadata": {},
     "output_type": "execute_result"
    }
   ],
   "source": [
    "y = df['Body Mass (g)'].max()\n",
    "df[df['Body Mass (g)']==y].Sex"
   ]
  },
  {
   "cell_type": "markdown",
   "id": "866f1f13",
   "metadata": {},
   "source": [
    "Welke soort penguin is de penguin met de langste flipper length?"
   ]
  },
  {
   "cell_type": "code",
   "execution_count": 33,
   "id": "dae97e80",
   "metadata": {},
   "outputs": [
    {
     "data": {
      "text/plain": [
       "276    Gentoo Penguin\n",
       "Name: Species, dtype: object"
      ]
     },
     "execution_count": 33,
     "metadata": {},
     "output_type": "execute_result"
    }
   ],
   "source": [
    "y= df['Flipper Length (mm)'].max()\n",
    "df[df['Flipper Length (mm)']==y].Species\n"
   ]
  },
  {
   "cell_type": "markdown",
   "id": "6d56c668",
   "metadata": {},
   "source": [
    "Bepaal de verdeling tussen het aantal mannetjes en vrouwtjes. Maak vervolgens een staafdiagram die de verhouding weergeeft."
   ]
  },
  {
   "cell_type": "code",
   "execution_count": 34,
   "id": "b017d68a",
   "metadata": {},
   "outputs": [
    {
     "data": {
      "text/plain": [
       "Text(0.5, 1.0, 'Staafdiagram mannen vs vrouwen')"
      ]
     },
     "execution_count": 34,
     "metadata": {},
     "output_type": "execute_result"
    },
    {
     "data": {
      "image/png": "[encoded data removed]",
      "text/plain": [
       "<Figure size 500x500 with 1 Axes>"
      ]
     },
     "metadata": {},
     "output_type": "display_data"
    }
   ],
   "source": [
    "\n",
    "sns.catplot(data=df, x='Sex',kind='count')\n",
    "plt.xticks([0,1],['man','vrouw'])\n",
    "plt.title('Staafdiagram mannen vs vrouwen')\n"
   ]
  },
  {
   "cell_type": "markdown",
   "id": "df333348",
   "metadata": {},
   "source": [
    "Plot de histogram van het gewicht van de penguins. Bereken hiervoor zelf de klassebreedtes"
   ]
  },
  {
   "cell_type": "code",
   "execution_count": 35,
   "id": "89002608",
   "metadata": {},
   "outputs": [
    {
     "name": "stderr",
     "output_type": "stream",
     "text": [
      "/Library/Frameworks/Python.framework/Versions/3.10/lib/python3.10/site-packages/seaborn/distributions.py:2619: FutureWarning: `distplot` is a deprecated function and will be removed in a future version. Please adapt your code to use either `displot` (a figure-level function with similar flexibility) or `histplot` (an axes-level function for histograms).\n",
      "  warnings.warn(msg, FutureWarning)\n"
     ]
    },
    {
     "data": {
      "text/plain": [
       "Text(0, 0.5, 'Aantal')"
      ]
     },
     "execution_count": 35,
     "metadata": {},
     "output_type": "execute_result"
    },
    {
     "data": {
      "image/png": "[encoded data removed]",
      "text/plain": [
       "<Figure size 640x480 with 1 Axes>"
      ]
     },
     "metadata": {},
     "output_type": "display_data"
    }
   ],
   "source": [
    "rang = df['Body Mass (g)'].max() - df['Body Mass (g)'].min()\n",
    "bins = (rang/np.sqrt(df['Body Mass (g)'].count()))\n",
    "bins = np.arange(df['Body Mass (g)'].min(), df['Body Mass (g)'].max()+bins, bins)\n",
    "sns.distplot(x=df['Body Mass (g)'], bins=bins, kde=False)\n",
    "plt.title('Gewicht van de penguins')\n",
    "plt.xlabel('Gewicht')\n",
    "plt.ylabel('Aantal')"
   ]
  },
  {
   "cell_type": "markdown",
   "id": "b0392fc8",
   "metadata": {},
   "source": [
    "Bereken nu de centrummaten en spreidingsmaten van het gewicht van de pinguïns. Bepaal met andere woorden: \n",
    "- Het gemiddelde - mean()\n",
    "- De mediaan - median()\n",
    "- Variantie - var()\n",
    "- Standaardafwijking - std()\n",
    "- De range - max() - min()\n",
    "- Q1 en Q3 en bereken hieruit de interkwartielafstand: https://pandas.pydata.org/pandas-docs/stable/reference/api/pandas.DataFrame.quantile.html\n",
    "- De scheefheid - skew()\n",
    "- De kurtosis - kurt()\n",
    "- De modus - mode\n",
    "\n",
    "Reflecteren deze centrummaten en spreidingsmaten wat je afleest op het histogram? Kijk dan vooral naar het gemiddelde, standaardafwijking en scheefheid"
   ]
  },
  {
   "cell_type": "code",
   "execution_count": 36,
   "id": "c7800771",
   "metadata": {},
   "outputs": [
    {
     "name": "stdout",
     "output_type": "stream",
     "text": [
      "Het gemiddelde is 4207.057057057057\n",
      "Mediaan: 4050.0\n",
      "Var: 648372.487698542\n",
      "Standaardafwijking is 805.2158019428965\n",
      "Q1: 3550.0\n",
      "Q3: 4775.0\n",
      "IQR: 1225.0\n",
      "Skewness is 0.4722460732964026\n",
      "Kurt: -0.7334889525794943\n",
      "<bound method Series.mode of 0      3750.0\n",
      "1      3800.0\n",
      "2      3250.0\n",
      "3      3450.0\n",
      "4      3650.0\n",
      "5      3625.0\n",
      "6      4675.0\n",
      "7      3200.0\n",
      "8      3800.0\n",
      "9      4400.0\n",
      "10     3700.0\n",
      "11     3450.0\n",
      "12     4500.0\n",
      "13     3325.0\n",
      "14     4200.0\n",
      "15     3400.0\n",
      "16     3600.0\n",
      "17     3800.0\n",
      "18     3950.0\n",
      "19     3800.0\n",
      "20     3800.0\n",
      "21     3550.0\n",
      "22     3200.0\n",
      "23     3150.0\n",
      "24     3950.0\n",
      "25     3250.0\n",
      "26     3900.0\n",
      "27     3300.0\n",
      "28     3900.0\n",
      "29     3325.0\n",
      "30     4150.0\n",
      "31     3950.0\n",
      "32     3550.0\n",
      "33     3300.0\n",
      "34     4650.0\n",
      "35     3150.0\n",
      "36     3900.0\n",
      "37     3100.0\n",
      "38     4400.0\n",
      "39     3000.0\n",
      "40     4600.0\n",
      "41     3425.0\n",
      "42     3450.0\n",
      "43     4150.0\n",
      "44     3500.0\n",
      "45     4300.0\n",
      "46     3450.0\n",
      "47     4050.0\n",
      "48     2900.0\n",
      "49     3700.0\n",
      "50     3550.0\n",
      "51     3800.0\n",
      "52     2850.0\n",
      "53     3750.0\n",
      "54     3150.0\n",
      "55     4400.0\n",
      "56     3600.0\n",
      "57     4050.0\n",
      "58     2850.0\n",
      "59     3950.0\n",
      "60     3350.0\n",
      "61     4100.0\n",
      "62     3050.0\n",
      "63     4450.0\n",
      "64     3600.0\n",
      "65     3900.0\n",
      "66     3550.0\n",
      "67     4150.0\n",
      "68     3700.0\n",
      "69     4250.0\n",
      "70     3700.0\n",
      "71     3900.0\n",
      "72     3550.0\n",
      "73     4000.0\n",
      "74     3200.0\n",
      "75     4700.0\n",
      "76     3800.0\n",
      "77     4200.0\n",
      "78     3350.0\n",
      "79     3550.0\n",
      "80     3800.0\n",
      "81     3500.0\n",
      "82     3950.0\n",
      "83     3600.0\n",
      "84     3550.0\n",
      "85     4300.0\n",
      "86     3400.0\n",
      "87     4450.0\n",
      "88     3300.0\n",
      "89     4300.0\n",
      "90     3700.0\n",
      "91     4350.0\n",
      "92     2900.0\n",
      "93     4100.0\n",
      "94     3725.0\n",
      "95     4725.0\n",
      "96     3075.0\n",
      "97     4250.0\n",
      "98     2925.0\n",
      "99     3550.0\n",
      "100    3750.0\n",
      "101    3900.0\n",
      "102    3175.0\n",
      "103    4775.0\n",
      "104    3825.0\n",
      "105    4600.0\n",
      "106    3200.0\n",
      "107    4275.0\n",
      "108    3900.0\n",
      "109    4075.0\n",
      "110    2900.0\n",
      "111    3775.0\n",
      "112    3350.0\n",
      "113    3325.0\n",
      "114    3150.0\n",
      "115    3500.0\n",
      "116    3450.0\n",
      "117    3875.0\n",
      "118    3050.0\n",
      "119    4000.0\n",
      "120    3275.0\n",
      "121    4300.0\n",
      "122    3050.0\n",
      "123    4000.0\n",
      "124    3325.0\n",
      "125    3500.0\n",
      "126    3500.0\n",
      "127    4475.0\n",
      "128    3425.0\n",
      "129    3900.0\n",
      "130    3175.0\n",
      "131    3975.0\n",
      "132    3400.0\n",
      "133    4250.0\n",
      "134    3400.0\n",
      "135    3475.0\n",
      "136    3050.0\n",
      "137    3725.0\n",
      "138    3000.0\n",
      "139    3650.0\n",
      "140    4250.0\n",
      "141    3475.0\n",
      "142    3450.0\n",
      "143    3750.0\n",
      "144    3700.0\n",
      "145    4000.0\n",
      "146    3500.0\n",
      "147    3900.0\n",
      "148    3650.0\n",
      "149    3525.0\n",
      "150    3725.0\n",
      "151    3950.0\n",
      "152    3250.0\n",
      "153    3750.0\n",
      "154    4150.0\n",
      "155    3700.0\n",
      "156    3800.0\n",
      "157    3775.0\n",
      "158    3700.0\n",
      "159    4050.0\n",
      "160    3575.0\n",
      "161    4050.0\n",
      "162    3300.0\n",
      "163    3700.0\n",
      "164    3450.0\n",
      "165    4400.0\n",
      "166    3600.0\n",
      "167    3400.0\n",
      "168    2900.0\n",
      "169    3800.0\n",
      "170    3300.0\n",
      "171    4150.0\n",
      "172    3400.0\n",
      "173    3800.0\n",
      "174    3700.0\n",
      "175    4550.0\n",
      "176    3200.0\n",
      "177    4300.0\n",
      "178    3350.0\n",
      "179    4100.0\n",
      "180    3600.0\n",
      "181    3900.0\n",
      "182    3850.0\n",
      "183    4800.0\n",
      "184    2700.0\n",
      "185    4500.0\n",
      "186    3950.0\n",
      "187    3650.0\n",
      "188    3550.0\n",
      "189    3500.0\n",
      "190    3675.0\n",
      "191    4450.0\n",
      "192    3400.0\n",
      "193    4300.0\n",
      "194    3250.0\n",
      "195    3675.0\n",
      "196    3325.0\n",
      "197    3950.0\n",
      "198    3600.0\n",
      "199    4050.0\n",
      "200    3350.0\n",
      "201    3450.0\n",
      "202    3250.0\n",
      "203    4050.0\n",
      "204    3800.0\n",
      "205    3525.0\n",
      "206    3950.0\n",
      "207    3650.0\n",
      "208    3650.0\n",
      "209    4000.0\n",
      "210    3400.0\n",
      "211    3775.0\n",
      "212    4100.0\n",
      "213    3775.0\n",
      "214    4500.0\n",
      "215    5700.0\n",
      "216    4450.0\n",
      "217    5700.0\n",
      "218    5400.0\n",
      "219    4550.0\n",
      "220    4800.0\n",
      "221    5200.0\n",
      "222    4400.0\n",
      "223    5150.0\n",
      "224    4650.0\n",
      "225    5550.0\n",
      "226    4650.0\n",
      "227    5850.0\n",
      "228    4200.0\n",
      "229    5850.0\n",
      "230    4150.0\n",
      "231    6300.0\n",
      "232    4800.0\n",
      "233    5350.0\n",
      "234    5700.0\n",
      "235    5000.0\n",
      "236    4400.0\n",
      "237    5050.0\n",
      "238    5000.0\n",
      "239    5100.0\n",
      "240    5650.0\n",
      "241    4600.0\n",
      "242    5550.0\n",
      "243    5250.0\n",
      "244    4700.0\n",
      "245    5050.0\n",
      "246    6050.0\n",
      "247    5150.0\n",
      "248    5400.0\n",
      "249    4950.0\n",
      "250    5250.0\n",
      "251    4350.0\n",
      "252    5350.0\n",
      "253    3950.0\n",
      "254    5700.0\n",
      "255    4300.0\n",
      "256    4750.0\n",
      "257    5550.0\n",
      "258    4900.0\n",
      "259    4200.0\n",
      "260    5400.0\n",
      "261    5100.0\n",
      "262    5300.0\n",
      "263    4850.0\n",
      "264    5300.0\n",
      "265    4400.0\n",
      "266    5000.0\n",
      "267    4900.0\n",
      "268    5050.0\n",
      "269    4300.0\n",
      "270    5000.0\n",
      "271    4450.0\n",
      "272    5550.0\n",
      "273    4200.0\n",
      "274    5300.0\n",
      "275    4400.0\n",
      "276    5650.0\n",
      "277    4700.0\n",
      "278    5700.0\n",
      "279    5800.0\n",
      "280    4700.0\n",
      "281    5550.0\n",
      "282    4750.0\n",
      "283    5000.0\n",
      "284    5100.0\n",
      "285    5200.0\n",
      "286    4700.0\n",
      "287    5800.0\n",
      "288    4600.0\n",
      "289    6000.0\n",
      "290    4750.0\n",
      "291    5950.0\n",
      "292    4625.0\n",
      "293    5450.0\n",
      "294    4725.0\n",
      "295    5350.0\n",
      "296    4750.0\n",
      "297    5600.0\n",
      "298    4600.0\n",
      "299    5300.0\n",
      "300    4875.0\n",
      "301    5550.0\n",
      "302    4950.0\n",
      "303    5400.0\n",
      "304    4750.0\n",
      "305    5650.0\n",
      "306    4850.0\n",
      "307    5200.0\n",
      "308    4925.0\n",
      "309    4875.0\n",
      "310    4625.0\n",
      "311    5250.0\n",
      "312    4850.0\n",
      "313    5600.0\n",
      "314    4975.0\n",
      "315    5500.0\n",
      "316    5500.0\n",
      "317    4700.0\n",
      "318    5500.0\n",
      "319    4575.0\n",
      "320    5500.0\n",
      "321    5000.0\n",
      "322    5950.0\n",
      "323    4650.0\n",
      "324    5500.0\n",
      "325    4375.0\n",
      "326    5850.0\n",
      "327    6000.0\n",
      "328    4925.0\n",
      "329    4850.0\n",
      "330    5750.0\n",
      "331    5200.0\n",
      "332    5400.0\n",
      "Name: Body Mass (g), dtype: float64>\n",
      "We zien dat de grafiek linksscheef is dus de meeste penguins wegen rond 3500-4000 met een paar uitschieters naar rechts\n"
     ]
    }
   ],
   "source": [
    "print(f\"Het gemiddelde is {df['Body Mass (g)'].mean()}\")\n",
    "print(f\"Mediaan: {df['Body Mass (g)'].median()}\")\n",
    "print(f\"Var: {df['Body Mass (g)'].var()}\")\n",
    "print(f\"Standaardafwijking is {df['Body Mass (g)'].std()}\")\n",
    "print(f\"Q1: {df['Body Mass (g)'].quantile(0.25)}\")\n",
    "print(f\"Q3: {df['Body Mass (g)'].quantile(0.75)}\")\n",
    "print(f\"IQR: {df['Body Mass (g)'].quantile(0.75)-df['Body Mass (g)'].quantile(0.25)}\")\n",
    "rang = df['Body Mass (g)'].max()-df['Body Mass (g)'].min()\n",
    "print(f\"Skewness is {df['Body Mass (g)'].skew()}\")\n",
    "print(f\"Kurt: {df['Body Mass (g)'].kurt()}\")\n",
    "print(df['Body Mass (g)'].mode)\n",
    "\n",
    "print(f'We zien dat de grafiek linksscheef is dus de meeste penguins wegen rond 3500-4000 met een paar uitschieters naar rechts')"
   ]
  },
  {
   "cell_type": "markdown",
   "id": "1563621d",
   "metadata": {},
   "source": [
    "Doe nu hetzelfde voor de flipper length (dus plot de histogram en bereken de centrum- en spreidingsmaten; schrijf zeker jou conclusies neer!)"
   ]
  },
  {
   "cell_type": "code",
   "execution_count": 37,
   "id": "0c3114f6",
   "metadata": {},
   "outputs": [
    {
     "name": "stderr",
     "output_type": "stream",
     "text": [
      "/Library/Frameworks/Python.framework/Versions/3.10/lib/python3.10/site-packages/seaborn/distributions.py:2619: FutureWarning: `distplot` is a deprecated function and will be removed in a future version. Please adapt your code to use either `displot` (a figure-level function with similar flexibility) or `histplot` (an axes-level function for histograms).\n",
      "  warnings.warn(msg, FutureWarning)\n"
     ]
    },
    {
     "data": {
      "text/plain": [
       "Text(0, 0.5, 'Aantal')"
      ]
     },
     "execution_count": 37,
     "metadata": {},
     "output_type": "execute_result"
    },
    {
     "data": {
      "image/png": "[encoded data removed]",
      "text/plain": [
       "<Figure size 640x480 with 1 Axes>"
      ]
     },
     "metadata": {},
     "output_type": "display_data"
    }
   ],
   "source": [
    "rang = df['Flipper Length (mm)'].max() - df['Flipper Length (mm)'].min()\n",
    "bins2 = (rang/np.sqrt(df['Flipper Length (mm)'].count()))\n",
    "bins2 = np.arange(df['Flipper Length (mm)'].min(), df['Flipper Length (mm)'].max(), bins2)\n",
    "sns.distplot(x=df['Flipper Length (mm)'], bins=bins2, kde=False)\n",
    "plt.title('Flipper Length')\n",
    "plt.xlabel('Flipper Length')\n",
    "plt.ylabel('Aantal')"
   ]
  },
  {
   "cell_type": "code",
   "execution_count": 38,
   "id": "3a841a6c",
   "metadata": {},
   "outputs": [
    {
     "name": "stdout",
     "output_type": "stream",
     "text": [
      "Het gemiddelde is 200.96696696696696\n",
      "De median is 197.0\n",
      "De var is 196.44167661637542\n",
      "Standaardafwijking is 14.015765288287879\n",
      "Q1 is 190.0\n",
      "Q3 is 213.0\n",
      "De IQR is23.0\n",
      "Skewness is 0.36014797697479267\n",
      "Kurt: -0.9612410139399925\n",
      "<bound method Series.mode of 0      181.0\n",
      "1      186.0\n",
      "2      195.0\n",
      "3      193.0\n",
      "4      190.0\n",
      "5      181.0\n",
      "6      195.0\n",
      "7      182.0\n",
      "8      191.0\n",
      "9      198.0\n",
      "10     185.0\n",
      "11     195.0\n",
      "12     197.0\n",
      "13     184.0\n",
      "14     194.0\n",
      "15     174.0\n",
      "16     180.0\n",
      "17     189.0\n",
      "18     185.0\n",
      "19     180.0\n",
      "20     187.0\n",
      "21     183.0\n",
      "22     187.0\n",
      "23     172.0\n",
      "24     180.0\n",
      "25     178.0\n",
      "26     178.0\n",
      "27     188.0\n",
      "28     184.0\n",
      "29     195.0\n",
      "30     196.0\n",
      "31     190.0\n",
      "32     180.0\n",
      "33     181.0\n",
      "34     184.0\n",
      "35     182.0\n",
      "36     195.0\n",
      "37     186.0\n",
      "38     196.0\n",
      "39     185.0\n",
      "40     190.0\n",
      "41     182.0\n",
      "42     190.0\n",
      "43     191.0\n",
      "44     186.0\n",
      "45     188.0\n",
      "46     190.0\n",
      "47     200.0\n",
      "48     187.0\n",
      "49     191.0\n",
      "50     186.0\n",
      "51     193.0\n",
      "52     181.0\n",
      "53     194.0\n",
      "54     185.0\n",
      "55     195.0\n",
      "56     185.0\n",
      "57     192.0\n",
      "58     184.0\n",
      "59     192.0\n",
      "60     195.0\n",
      "61     188.0\n",
      "62     190.0\n",
      "63     198.0\n",
      "64     190.0\n",
      "65     190.0\n",
      "66     196.0\n",
      "67     197.0\n",
      "68     190.0\n",
      "69     195.0\n",
      "70     191.0\n",
      "71     184.0\n",
      "72     187.0\n",
      "73     195.0\n",
      "74     189.0\n",
      "75     196.0\n",
      "76     187.0\n",
      "77     193.0\n",
      "78     191.0\n",
      "79     194.0\n",
      "80     190.0\n",
      "81     189.0\n",
      "82     189.0\n",
      "83     190.0\n",
      "84     202.0\n",
      "85     205.0\n",
      "86     185.0\n",
      "87     186.0\n",
      "88     187.0\n",
      "89     208.0\n",
      "90     190.0\n",
      "91     196.0\n",
      "92     178.0\n",
      "93     192.0\n",
      "94     192.0\n",
      "95     203.0\n",
      "96     183.0\n",
      "97     190.0\n",
      "98     193.0\n",
      "99     184.0\n",
      "100    199.0\n",
      "101    190.0\n",
      "102    181.0\n",
      "103    197.0\n",
      "104    198.0\n",
      "105    191.0\n",
      "106    193.0\n",
      "107    197.0\n",
      "108    191.0\n",
      "109    196.0\n",
      "110    188.0\n",
      "111    199.0\n",
      "112    189.0\n",
      "113    189.0\n",
      "114    187.0\n",
      "115    198.0\n",
      "116    176.0\n",
      "117    202.0\n",
      "118    186.0\n",
      "119    199.0\n",
      "120    191.0\n",
      "121    195.0\n",
      "122    191.0\n",
      "123    210.0\n",
      "124    190.0\n",
      "125    197.0\n",
      "126    193.0\n",
      "127    199.0\n",
      "128    187.0\n",
      "129    190.0\n",
      "130    191.0\n",
      "131    200.0\n",
      "132    185.0\n",
      "133    193.0\n",
      "134    193.0\n",
      "135    187.0\n",
      "136    188.0\n",
      "137    190.0\n",
      "138    192.0\n",
      "139    185.0\n",
      "140    190.0\n",
      "141    184.0\n",
      "142    195.0\n",
      "143    193.0\n",
      "144    187.0\n",
      "145    201.0\n",
      "146    192.0\n",
      "147    196.0\n",
      "148    193.0\n",
      "149    188.0\n",
      "150    197.0\n",
      "151    198.0\n",
      "152    178.0\n",
      "153    197.0\n",
      "154    195.0\n",
      "155    198.0\n",
      "156    193.0\n",
      "157    194.0\n",
      "158    185.0\n",
      "159    201.0\n",
      "160    190.0\n",
      "161    201.0\n",
      "162    197.0\n",
      "163    181.0\n",
      "164    190.0\n",
      "165    195.0\n",
      "166    181.0\n",
      "167    191.0\n",
      "168    187.0\n",
      "169    193.0\n",
      "170    195.0\n",
      "171    197.0\n",
      "172    200.0\n",
      "173    200.0\n",
      "174    191.0\n",
      "175    205.0\n",
      "176    187.0\n",
      "177    201.0\n",
      "178    187.0\n",
      "179    203.0\n",
      "180    195.0\n",
      "181    199.0\n",
      "182    195.0\n",
      "183    210.0\n",
      "184    192.0\n",
      "185    205.0\n",
      "186    210.0\n",
      "187    187.0\n",
      "188    196.0\n",
      "189    196.0\n",
      "190    196.0\n",
      "191    201.0\n",
      "192    190.0\n",
      "193    212.0\n",
      "194    187.0\n",
      "195    198.0\n",
      "196    199.0\n",
      "197    201.0\n",
      "198    193.0\n",
      "199    203.0\n",
      "200    187.0\n",
      "201    197.0\n",
      "202    191.0\n",
      "203    203.0\n",
      "204    202.0\n",
      "205    194.0\n",
      "206    206.0\n",
      "207    189.0\n",
      "208    195.0\n",
      "209    207.0\n",
      "210    202.0\n",
      "211    193.0\n",
      "212    210.0\n",
      "213    198.0\n",
      "214    211.0\n",
      "215    230.0\n",
      "216    210.0\n",
      "217    218.0\n",
      "218    215.0\n",
      "219    210.0\n",
      "220    211.0\n",
      "221    219.0\n",
      "222    209.0\n",
      "223    215.0\n",
      "224    214.0\n",
      "225    216.0\n",
      "226    214.0\n",
      "227    213.0\n",
      "228    210.0\n",
      "229    217.0\n",
      "230    210.0\n",
      "231    221.0\n",
      "232    209.0\n",
      "233    222.0\n",
      "234    218.0\n",
      "235    215.0\n",
      "236    213.0\n",
      "237    215.0\n",
      "238    215.0\n",
      "239    215.0\n",
      "240    215.0\n",
      "241    210.0\n",
      "242    220.0\n",
      "243    222.0\n",
      "244    209.0\n",
      "245    207.0\n",
      "246    230.0\n",
      "247    220.0\n",
      "248    220.0\n",
      "249    213.0\n",
      "250    219.0\n",
      "251    208.0\n",
      "252    208.0\n",
      "253    208.0\n",
      "254    225.0\n",
      "255    210.0\n",
      "256    216.0\n",
      "257    222.0\n",
      "258    217.0\n",
      "259    210.0\n",
      "260    225.0\n",
      "261    213.0\n",
      "262    215.0\n",
      "263    210.0\n",
      "264    220.0\n",
      "265    210.0\n",
      "266    225.0\n",
      "267    217.0\n",
      "268    220.0\n",
      "269    208.0\n",
      "270    220.0\n",
      "271    208.0\n",
      "272    224.0\n",
      "273    208.0\n",
      "274    221.0\n",
      "275    214.0\n",
      "276    231.0\n",
      "277    219.0\n",
      "278    230.0\n",
      "279    229.0\n",
      "280    220.0\n",
      "281    223.0\n",
      "282    216.0\n",
      "283    221.0\n",
      "284    221.0\n",
      "285    217.0\n",
      "286    216.0\n",
      "287    230.0\n",
      "288    209.0\n",
      "289    220.0\n",
      "290    215.0\n",
      "291    223.0\n",
      "292    212.0\n",
      "293    221.0\n",
      "294    212.0\n",
      "295    224.0\n",
      "296    212.0\n",
      "297    228.0\n",
      "298    218.0\n",
      "299    218.0\n",
      "300    212.0\n",
      "301    230.0\n",
      "302    218.0\n",
      "303    228.0\n",
      "304    212.0\n",
      "305    224.0\n",
      "306    214.0\n",
      "307    226.0\n",
      "308    216.0\n",
      "309    222.0\n",
      "310    203.0\n",
      "311    225.0\n",
      "312    219.0\n",
      "313    228.0\n",
      "314    215.0\n",
      "315    228.0\n",
      "316    215.0\n",
      "317    210.0\n",
      "318    219.0\n",
      "319    208.0\n",
      "320    209.0\n",
      "321    216.0\n",
      "322    229.0\n",
      "323    213.0\n",
      "324    230.0\n",
      "325    217.0\n",
      "326    230.0\n",
      "327    222.0\n",
      "328    214.0\n",
      "329    215.0\n",
      "330    222.0\n",
      "331    212.0\n",
      "332    213.0\n",
      "Name: Flipper Length (mm), dtype: float64>\n",
      "We zien 2 pieken een rond 190 en een rond 210\n"
     ]
    }
   ],
   "source": [
    "print(f\"Het gemiddelde is {df['Flipper Length (mm)'].mean()}\")\n",
    "print(f\"De median is {df['Flipper Length (mm)'].median()}\")\n",
    "print(f\"De var is {df['Flipper Length (mm)'].var()}\")\n",
    "print(f\"Standaardafwijking is {df['Flipper Length (mm)'].std()}\")\n",
    "print(f\"Q1 is {df['Flipper Length (mm)'].quantile(0.25)}\")\n",
    "print(f\"Q3 is {df['Flipper Length (mm)'].quantile(0.75)}\")\n",
    "print(f\"De IQR is{df['Flipper Length (mm)'].quantile(0.75)-df['Flipper Length (mm)'].quantile(0.25)}\")\n",
    "rang = df['Flipper Length (mm)'].max()-df['Flipper Length (mm)'].min()\n",
    "print(f\"Skewness is {df['Flipper Length (mm)'].skew()}\")\n",
    "print(f\"Kurt: {df['Flipper Length (mm)'].kurt()}\")\n",
    "print(df['Flipper Length (mm)'].mode)\n",
    "print(f'We zien 2 pieken een rond 190 en een rond 210')"
   ]
  },
  {
   "cell_type": "markdown",
   "id": "8f58b43a",
   "metadata": {},
   "source": [
    "Maak een boxplot van de lengte van de vin, zijn er uitschieters aanwezig in de dataset?"
   ]
  },
  {
   "cell_type": "code",
   "execution_count": 39,
   "id": "db9ada41",
   "metadata": {},
   "outputs": [
    {
     "name": "stdout",
     "output_type": "stream",
     "text": [
      "Ja er zijn aan beide kanten uitschieters\n"
     ]
    },
    {
     "data": {
      "image/png": "[encoded data removed]",
      "text/plain": [
       "<Figure size 640x480 with 1 Axes>"
      ]
     },
     "metadata": {},
     "output_type": "display_data"
    }
   ],
   "source": [
    "sns.boxplot(x=df['Flipper Length (mm)'], whis=1.5)\n",
    "plt.title('Boxplot Van Flipper Length')\n",
    "print('Ja er zijn aan beide kanten uitschieters')"
   ]
  },
  {
   "cell_type": "markdown",
   "id": "eebf78af",
   "metadata": {},
   "source": [
    "Bepaal telkens de centrummaten en de histogram van de *Culmen Length (mm)* van mannetjes enerzijds en deze van vrouwtjes anderzijds."
   ]
  },
  {
   "cell_type": "code",
   "execution_count": 40,
   "id": "292dd989",
   "metadata": {},
   "outputs": [
    {
     "name": "stderr",
     "output_type": "stream",
     "text": [
      "/Library/Frameworks/Python.framework/Versions/3.10/lib/python3.10/site-packages/seaborn/distributions.py:2619: FutureWarning: `distplot` is a deprecated function and will be removed in a future version. Please adapt your code to use either `displot` (a figure-level function with similar flexibility) or `histplot` (an axes-level function for histograms).\n",
      "  warnings.warn(msg, FutureWarning)\n"
     ]
    },
    {
     "data": {
      "text/plain": [
       "Text(0, 0.5, 'Culmen Length')"
      ]
     },
     "execution_count": 40,
     "metadata": {},
     "output_type": "execute_result"
    },
    {
     "data": {
      "image/png": "[encoded data removed]",
      "text/plain": [
       "<Figure size 640x480 with 1 Axes>"
      ]
     },
     "metadata": {},
     "output_type": "display_data"
    }
   ],
   "source": [
    "men = df['Sex'] ==0\n",
    "vrouw = df['Sex']==1\n",
    "rang = df[men]['Culmen Length (mm)'].max() - df[men]['Culmen Length (mm)'].min()\n",
    "bins4 = (rang/np.sqrt(df[men]['Culmen Length (mm)'].count()))\n",
    "bins4 = np.arange(df[men]['Culmen Length (mm)'].min(), df[men]['Culmen Length (mm)'].max(), bins4)\n",
    "sns.distplot(x=df[men]['Culmen Length (mm)'], bins=bins4, kde=False)\n",
    "plt.title('Culmen van mannetjes')\n",
    "plt.xlabel('Hoeveelheid')\n",
    "plt.ylabel('Culmen Length')"
   ]
  },
  {
   "cell_type": "code",
   "execution_count": 41,
   "id": "c75a7041",
   "metadata": {},
   "outputs": [
    {
     "name": "stdout",
     "output_type": "stream",
     "text": [
      "Het gemiddelde is 45.85476190476191\n",
      "Median: 46.8\n",
      "Var: 28.803570002851437\n",
      "Standaardafwijking is 5.366895751069834\n",
      "Q1: 40.975\n",
      "Q3: 50.324999999999996\n",
      "IQR: 10.824999999999996\n",
      "Skewness is -0.11446330510308939\n",
      "Kurt: -1.132093382848734\n",
      "<bound method Series.mode of 0      39.1\n",
      "4      39.3\n",
      "6      39.2\n",
      "8      38.6\n",
      "9      34.6\n",
      "12     42.5\n",
      "14     46.0\n",
      "16     37.7\n",
      "18     38.2\n",
      "19     38.8\n",
      "21     40.6\n",
      "24     40.5\n",
      "26     37.2\n",
      "28     40.9\n",
      "30     39.2\n",
      "31     38.8\n",
      "34     39.8\n",
      "36     40.8\n",
      "38     44.1\n",
      "40     39.6\n",
      "41     41.1\n",
      "43     42.3\n",
      "45     40.1\n",
      "47     42.0\n",
      "49     41.4\n",
      "51     40.6\n",
      "53     37.6\n",
      "55     41.3\n",
      "57     41.1\n",
      "59     41.6\n",
      "61     41.1\n",
      "63     41.8\n",
      "65     39.7\n",
      "67     45.8\n",
      "69     42.8\n",
      "71     37.2\n",
      "73     42.1\n",
      "75     42.9\n",
      "77     35.1\n",
      "79     41.3\n",
      "80     36.3\n",
      "82     38.3\n",
      "85     41.1\n",
      "87     39.6\n",
      "89     40.8\n",
      "91     40.3\n",
      "93     43.2\n",
      "95     41.0\n",
      "97     37.8\n",
      "99     39.7\n",
      "101    38.2\n",
      "103    43.2\n",
      "105    45.6\n",
      "107    42.2\n",
      "109    42.7\n",
      "111    37.3\n",
      "113    41.1\n",
      "115    37.7\n",
      "117    41.4\n",
      "119    40.6\n",
      "121    41.5\n",
      "123    44.1\n",
      "125    43.1\n",
      "127    37.5\n",
      "129    41.1\n",
      "131    40.2\n",
      "133    39.7\n",
      "135    40.6\n",
      "137    40.7\n",
      "139    39.0\n",
      "140    39.2\n",
      "143    37.8\n",
      "145    41.5\n",
      "147    50.0\n",
      "148    51.3\n",
      "150    52.7\n",
      "153    51.3\n",
      "155    51.3\n",
      "157    51.7\n",
      "159    52.0\n",
      "161    50.5\n",
      "162    50.3\n",
      "165    49.2\n",
      "167    48.5\n",
      "169    50.6\n",
      "171    52.0\n",
      "173    49.5\n",
      "175    52.8\n",
      "177    54.2\n",
      "179    51.0\n",
      "180    49.7\n",
      "183    52.0\n",
      "185    53.5\n",
      "186    49.0\n",
      "188    50.9\n",
      "191    50.8\n",
      "193    49.0\n",
      "194    51.5\n",
      "197    51.4\n",
      "199    50.7\n",
      "201    52.2\n",
      "203    49.3\n",
      "204    50.2\n",
      "206    51.9\n",
      "209    55.8\n",
      "211    49.6\n",
      "212    50.8\n",
      "215    50.0\n",
      "217    50.0\n",
      "218    47.6\n",
      "221    46.7\n",
      "223    46.8\n",
      "225    49.0\n",
      "227    48.4\n",
      "229    49.3\n",
      "231    49.2\n",
      "233    48.7\n",
      "234    50.2\n",
      "237    46.3\n",
      "239    46.1\n",
      "240    47.8\n",
      "242    50.0\n",
      "243    47.3\n",
      "246    59.6\n",
      "248    48.4\n",
      "250    44.4\n",
      "252    48.7\n",
      "254    49.6\n",
      "256    49.6\n",
      "257    50.5\n",
      "260    50.5\n",
      "262    45.2\n",
      "264    48.5\n",
      "266    50.1\n",
      "268    45.0\n",
      "270    45.5\n",
      "272    50.4\n",
      "274    46.2\n",
      "276    54.3\n",
      "278    49.8\n",
      "279    49.5\n",
      "281    50.7\n",
      "283    46.4\n",
      "284    48.2\n",
      "287    48.6\n",
      "289    51.1\n",
      "291    45.2\n",
      "293    52.5\n",
      "295    50.0\n",
      "297    50.8\n",
      "299    51.3\n",
      "301    52.1\n",
      "303    52.2\n",
      "305    49.5\n",
      "307    50.8\n",
      "308    49.4\n",
      "311    51.1\n",
      "313    55.9\n",
      "315    49.1\n",
      "316    46.8\n",
      "318    53.4\n",
      "320    48.1\n",
      "322    49.8\n",
      "324    51.5\n",
      "326    55.1\n",
      "327    48.8\n",
      "330    50.4\n",
      "332    49.9\n",
      "Name: Culmen Length (mm), dtype: float64>\n",
      "We zien 2 duidelijke pieken een rond de 40 en een rond de 50\n"
     ]
    }
   ],
   "source": [
    "print(f\"Het gemiddelde is {df[men]['Culmen Length (mm)'].mean()}\")\n",
    "print(f\"Median: {df[men]['Culmen Length (mm)'].median()}\")\n",
    "print(f\"Var: {df[men]['Culmen Length (mm)'].var()}\")\n",
    "print(f\"Standaardafwijking is {df[men]['Culmen Length (mm)'].std()}\")\n",
    "print(f\"Q1: {df[men]['Culmen Length (mm)'].quantile(0.25)}\")\n",
    "print(f\"Q3: {df[men]['Culmen Length (mm)'].quantile(0.75)}\")\n",
    "print(f\"IQR: {df[men]['Culmen Length (mm)'].quantile(0.75)-df['Culmen Length (mm)'].quantile(0.25)}\")\n",
    "rang = df['Culmen Length (mm)'].max()-df[men]['Culmen Length (mm)'].min()\n",
    "print(f\"Skewness is {df[men]['Culmen Length (mm)'].skew()}\")\n",
    "print(f\"Kurt: {df[men]['Culmen Length (mm)'].kurt()}\")\n",
    "print(df[men]['Culmen Length (mm)'].mode)\n",
    "print('We zien 2 duidelijke pieken een rond de 40 en een rond de 50')"
   ]
  },
  {
   "cell_type": "code",
   "execution_count": 42,
   "id": "e59df3a1",
   "metadata": {},
   "outputs": [
    {
     "name": "stderr",
     "output_type": "stream",
     "text": [
      "/Library/Frameworks/Python.framework/Versions/3.10/lib/python3.10/site-packages/seaborn/distributions.py:2619: FutureWarning: `distplot` is a deprecated function and will be removed in a future version. Please adapt your code to use either `displot` (a figure-level function with similar flexibility) or `histplot` (an axes-level function for histograms).\n",
      "  warnings.warn(msg, FutureWarning)\n"
     ]
    },
    {
     "data": {
      "text/plain": [
       "Text(0, 0.5, 'Culmen Length')"
      ]
     },
     "execution_count": 42,
     "metadata": {},
     "output_type": "execute_result"
    },
    {
     "data": {
      "image/png": "[encoded data removed]",
      "text/plain": [
       "<Figure size 640x480 with 1 Axes>"
      ]
     },
     "metadata": {},
     "output_type": "display_data"
    }
   ],
   "source": [
    "rang = df[vrouw]['Culmen Length (mm)'].max() - df[vrouw]['Culmen Length (mm)'].min()\n",
    "bins3 = (rang/np.sqrt(df[vrouw]['Culmen Length (mm)'].count()))\n",
    "bins3 = np.arange(df[vrouw]['Culmen Length (mm)'].min(), df[vrouw]['Culmen Length (mm)'].max(), bins3)\n",
    "sns.distplot(x=df[vrouw]['Culmen Length (mm)'], bins=bins3, kde=False)\n",
    "plt.title('Culmen Length vrouwtjes')\n",
    "plt.xlabel('Aantal')\n",
    "plt.ylabel('Culmen Length')"
   ]
  },
  {
   "cell_type": "code",
   "execution_count": 43,
   "id": "078c5c41",
   "metadata": {},
   "outputs": [
    {
     "name": "stdout",
     "output_type": "stream",
     "text": [
      "Het gemiddelde is 42.096969696969694\n",
      "Median: 42.8\n",
      "Var: 24.04407612712491\n",
      "Standaardafwijking is 4.903475922967799\n",
      "Q1: 37.6\n",
      "Q3: 46.2\n",
      "IQR: 6.700000000000003\n",
      "Skewness is 0.05048733909952096\n",
      "Kurt: -0.7796660417683343\n",
      "<bound method Series.mode of 1      39.5\n",
      "2      40.3\n",
      "3      36.7\n",
      "5      38.9\n",
      "7      41.1\n",
      "10     36.6\n",
      "11     38.7\n",
      "13     34.4\n",
      "15     37.8\n",
      "17     35.9\n",
      "20     35.3\n",
      "22     40.5\n",
      "23     37.9\n",
      "25     39.5\n",
      "27     39.5\n",
      "29     36.4\n",
      "32     42.2\n",
      "33     37.6\n",
      "35     36.5\n",
      "37     36.0\n",
      "39     37.0\n",
      "42     36.0\n",
      "44     39.6\n",
      "46     35.0\n",
      "48     34.5\n",
      "50     39.0\n",
      "52     36.5\n",
      "54     35.7\n",
      "56     37.6\n",
      "58     36.4\n",
      "60     35.5\n",
      "62     35.9\n",
      "64     33.5\n",
      "66     39.6\n",
      "68     35.5\n",
      "70     40.9\n",
      "72     36.2\n",
      "74     34.6\n",
      "76     36.7\n",
      "78     37.3\n",
      "81     36.9\n",
      "83     38.9\n",
      "84     35.7\n",
      "86     34.0\n",
      "88     36.2\n",
      "90     38.1\n",
      "92     33.1\n",
      "94     35.0\n",
      "96     37.7\n",
      "98     37.9\n",
      "100    38.6\n",
      "102    38.1\n",
      "104    38.1\n",
      "106    39.7\n",
      "108    39.6\n",
      "110    38.6\n",
      "112    35.7\n",
      "114    36.2\n",
      "116    40.2\n",
      "118    35.2\n",
      "120    38.8\n",
      "122    39.0\n",
      "124    38.5\n",
      "126    36.8\n",
      "128    38.1\n",
      "130    35.6\n",
      "132    37.0\n",
      "134    40.2\n",
      "136    32.1\n",
      "138    37.3\n",
      "141    36.6\n",
      "142    36.0\n",
      "144    36.0\n",
      "146    46.5\n",
      "149    45.4\n",
      "151    45.2\n",
      "152    46.1\n",
      "154    46.0\n",
      "156    46.6\n",
      "158    47.0\n",
      "160    45.9\n",
      "163    58.0\n",
      "164    46.4\n",
      "166    42.4\n",
      "168    43.2\n",
      "170    46.7\n",
      "172    50.5\n",
      "174    46.4\n",
      "176    40.9\n",
      "178    42.5\n",
      "181    47.5\n",
      "182    47.6\n",
      "184    46.9\n",
      "187    46.2\n",
      "189    45.5\n",
      "190    50.9\n",
      "192    50.1\n",
      "195    49.8\n",
      "196    48.1\n",
      "198    45.7\n",
      "200    42.5\n",
      "202    45.2\n",
      "205    45.6\n",
      "207    46.8\n",
      "208    45.7\n",
      "210    43.5\n",
      "213    50.2\n",
      "214    46.1\n",
      "216    48.7\n",
      "219    46.5\n",
      "220    45.4\n",
      "222    43.3\n",
      "224    40.9\n",
      "226    45.5\n",
      "228    45.8\n",
      "230    42.0\n",
      "232    46.2\n",
      "235    45.1\n",
      "236    46.5\n",
      "238    42.9\n",
      "241    48.2\n",
      "244    42.8\n",
      "245    45.1\n",
      "247    49.1\n",
      "249    42.6\n",
      "251    44.0\n",
      "253    42.7\n",
      "255    45.3\n",
      "258    43.6\n",
      "259    45.5\n",
      "261    44.9\n",
      "263    46.6\n",
      "265    45.1\n",
      "267    46.5\n",
      "269    43.8\n",
      "271    43.2\n",
      "273    45.3\n",
      "275    45.7\n",
      "277    45.8\n",
      "280    43.5\n",
      "282    47.7\n",
      "285    46.5\n",
      "286    46.4\n",
      "288    47.5\n",
      "290    45.2\n",
      "292    49.1\n",
      "294    47.4\n",
      "296    44.9\n",
      "298    43.4\n",
      "300    47.5\n",
      "302    47.5\n",
      "304    45.5\n",
      "306    44.5\n",
      "309    46.9\n",
      "310    48.4\n",
      "312    48.5\n",
      "314    47.2\n",
      "317    41.7\n",
      "319    43.3\n",
      "321    50.5\n",
      "323    43.5\n",
      "325    46.2\n",
      "328    47.2\n",
      "329    46.8\n",
      "331    45.2\n",
      "Name: Culmen Length (mm), dtype: float64>\n",
      "We zien 2 duidelijke pieken een rond de 23 en een rond de 45\n"
     ]
    }
   ],
   "source": [
    "print(f\"Het gemiddelde is {df[vrouw]['Culmen Length (mm)'].mean()}\")\n",
    "print(f\"Median: {df[vrouw]['Culmen Length (mm)'].median()}\")\n",
    "print(f\"Var: {df[vrouw]['Culmen Length (mm)'].var()}\")\n",
    "print(f\"Standaardafwijking is {df[vrouw]['Culmen Length (mm)'].std()}\")\n",
    "print(f\"Q1: {df[vrouw]['Culmen Length (mm)'].quantile(0.25)}\")\n",
    "print(f\"Q3: {df[vrouw]['Culmen Length (mm)'].quantile(0.75)}\")\n",
    "print(f\"IQR: {df[vrouw]['Culmen Length (mm)'].quantile(0.75)-df['Culmen Length (mm)'].quantile(0.25)}\")\n",
    "rang = df['Culmen Length (mm)'].max()-df[vrouw]['Culmen Length (mm)'].min()\n",
    "print(f\"Skewness is {df[vrouw]['Culmen Length (mm)'].skew()}\")\n",
    "print(f\"Kurt: {df[vrouw]['Culmen Length (mm)'].kurt()}\")\n",
    "print(df[vrouw]['Culmen Length (mm)'].mode)\n",
    "print('We zien 2 duidelijke pieken een rond de 23 en een rond de 45')"
   ]
  },
  {
   "cell_type": "markdown",
   "id": "97cb5808",
   "metadata": {},
   "source": [
    "Iemand beweert dat vrouwtjes een grotere vin hebben dan mannetjes, klopt deze bewering? Staaf je antwoord aan de hand van centrum- en/of spreidingsmaten en/of grafieken."
   ]
  },
  {
   "cell_type": "code",
   "execution_count": 44,
   "id": "0ae20f36",
   "metadata": {},
   "outputs": [
    {
     "name": "stdout",
     "output_type": "stream",
     "text": [
      "Het gemiddelde  van mannen is 204.50595238095238 en het gemiddelde van vrouwen is 197.36363636363637\n"
     ]
    }
   ],
   "source": [
    "print(f\"Het gemiddelde  van mannen is {df[men]['Flipper Length (mm)'].mean()} en het gemiddelde van vrouwen is {df[vrouw]['Flipper Length (mm)'].mean()}\")"
   ]
  },
  {
   "cell_type": "code",
   "execution_count": 45,
   "id": "84adc991",
   "metadata": {},
   "outputs": [
    {
     "name": "stdout",
     "output_type": "stream",
     "text": [
      "De mediaan  van mannen is 200.5 en de mediaan van vrouwen is 193.0\n"
     ]
    }
   ],
   "source": [
    "print(f\"De mediaan  van mannen is {df[men]['Flipper Length (mm)'].median()} en de mediaan van vrouwen is {df[vrouw]['Flipper Length (mm)'].median()}\")"
   ]
  },
  {
   "cell_type": "code",
   "execution_count": 46,
   "id": "083fcf97",
   "metadata": {
    "scrolled": true
   },
   "outputs": [
    {
     "name": "stdout",
     "output_type": "stream",
     "text": [
      "Hieruit zien we dat de mannetjes duidelijk langer flipper length hebbem.\n"
     ]
    },
    {
     "data": {
      "image/png": "[encoded data removed]",
      "text/plain": [
       "<Figure size 640x480 with 1 Axes>"
      ]
     },
     "metadata": {},
     "output_type": "display_data"
    }
   ],
   "source": [
    "sns.boxplot(data=df, y='Flipper Length (mm)',x='Sex')\n",
    "plt.title('Boxplot Flipper Length')\n",
    "plt.xticks([1,0],['vrouw','man'])\n",
    "print(\"Hieruit zien we dat de mannetjes duidelijk langer flipper length hebbem.\")"
   ]
  },
  {
   "cell_type": "markdown",
   "id": "b37f626b",
   "metadata": {},
   "source": [
    "Deze persoon beweert ook dat de clutch completion beinvloed wordt door het gewicht van de penguin en dat als een penguin meer weegt de kans op clutch completion groter is. klopt deze bewering? Staaf je antwoord aan de hand van centrummaten en/of grafieken."
   ]
  },
  {
   "cell_type": "code",
   "execution_count": 47,
   "id": "8b504f43",
   "metadata": {},
   "outputs": [
    {
     "data": {
      "text/plain": [
       "Text(0.5, 1.0, 'Body Weight ten opzichte van CLutch COmpletion')"
      ]
     },
     "execution_count": 47,
     "metadata": {},
     "output_type": "execute_result"
    },
    {
     "data": {
      "image/png": "[encoded data removed]",
      "text/plain": [
       "<Figure size 640x480 with 1 Axes>"
      ]
     },
     "metadata": {},
     "output_type": "display_data"
    }
   ],
   "source": [
    "sns.histplot(data=df, x=\"Clutch Completion\", y=\"Body Mass (g)\")\n",
    "plt.title('Body Weight ten opzichte van CLutch COmpletion')"
   ]
  },
  {
   "cell_type": "code",
   "execution_count": 57,
   "id": "7b940815",
   "metadata": {},
   "outputs": [
    {
     "name": "stdout",
     "output_type": "stream",
     "text": [
      "Van deze grafiek zien we dat er neit direct een verband is\n",
      "[0.9009009009009009, 3.6036036036036037, 5.405405405405405, 10.51051051051051, 10.51051051051051, 11.11111111111111, 9.90990990990991, 6.006006006006006, 7.5075075075075075, 5.105105105105105, 6.606606606606606, 5.405405405405405, 3.6036036036036037, 3.903903903903904, 4.804804804804805, 3.303303303303303, 1.5015015015015014, 0.0, 0.3003003003003003]\n",
      "[0.6711409395973155, 3.3557046979865772, 5.369127516778524, 9.395973154362416, 10.40268456375839, 11.073825503355705, 10.06711409395973, 5.704697986577181, 8.053691275167784, 4.697986577181208, 7.046979865771812, 5.704697986577181, 4.026845637583892, 4.026845637583892, 5.033557046979865, 3.3557046979865772, 1.6778523489932886, 0.0, 0.33557046979865773]\n"
     ]
    }
   ],
   "source": [
    "print('Van deze grafiek zien we dat er neit direct een verband is')\n",
    "df['Body Mass (g)'].value_counts(bins=bins)\n",
    "procentl=[]\n",
    "procentc= []\n",
    "procentb=[]\n",
    "sum=0\n",
    "for i in range(len(bins)):\n",
    "    if i != len(bins)-1:\n",
    "        procentl.append(((df[(df['Body Mass (g)']>=bins[i]) & (df['Body Mass (g)']<=bins[i+1])]['Clutch Completion'])))\n",
    "        ser = procentl[i].tolist()\n",
    "        procentc.append(ser.count('Yes'))\n",
    "        sum+=ser.count('Yes')\n",
    "for i in range(len(bins)):\n",
    "    if i != len(bins)-1:\n",
    "        procentb.append(((df[(df['Body Mass (g)']>=bins[i]) & (df['Body Mass (g)']<=bins[i+1])]['Body Mass (g)'].count())/df['Body Mass (g)'].count())*100)\n",
    "for i in range(len(procentc)):\n",
    "    procentc[i]=(procentc[i]/sum)*100\n",
    "print(procentb)\n",
    "print(procentc)"
   ]
  },
  {
   "cell_type": "markdown",
   "id": "fa4c3c04",
   "metadata": {},
   "source": [
    "Deze persoon beweert ook dat het gewicht heel duidelijk verschilt per soort. Klopt deze bewering? Gebruik de boxplot om je antwoord te staven"
   ]
  },
  {
   "cell_type": "code",
   "execution_count": 58,
   "id": "169258ea",
   "metadata": {},
   "outputs": [
    {
     "data": {
      "image/png": "[encoded data removed]",
      "text/plain": [
       "<Figure size 640x480 with 1 Axes>"
      ]
     },
     "metadata": {},
     "output_type": "display_data"
    }
   ],
   "source": [
    "sns.lineplot(data=[procentc,procentb])\n",
    "plt.legend(['Procent van Clutch Completion', 'Procent gewicht'])\n",
    "plt.title('Clutch completion procentueel vs gewicht procentueel')\n",
    "plt.xlabel('Gewicht')\n",
    "plt.ylabel('Procent')\n",
    "plt.show()"
   ]
  },
  {
   "cell_type": "markdown",
   "id": "af1f7ca7",
   "metadata": {},
   "source": [
    "# <span style=\"color:Red\"> Uitdaging (maar nog steeds verplicht om te maken)"
   ]
  },
  {
   "cell_type": "markdown",
   "id": "8ef1997c",
   "metadata": {},
   "source": [
    "lukt het jouw om de histogrammen van het gewicht van de mannetjes en vrouwtjes op dezelfde plot te krijgen? (analoog aan excel plot)"
   ]
  },
  {
   "cell_type": "code",
   "execution_count": 22,
   "id": "40c018ad",
   "metadata": {},
   "outputs": [
    {
     "data": {
      "image/png": "[encoded data removed]",
      "text/plain": [
       "<Figure size 432x288 with 1 Axes>"
      ]
     },
     "metadata": {},
     "output_type": "display_data"
    }
   ],
   "source": [
    "x = df[men]['Body Mass (g)']\n",
    "y = df[vrouw]['Body Mass (g)']\n",
    "lines = plt.hist([x,y])\n",
    "plt.legend(['Women', 'Men'])\n",
    "plt.title('Gewicht mannetjes vs vrouwtjes')\n",
    "plt.xlabel('Gewicht')\n",
    "plt.ylabel('Hoeveelheid')\n",
    "plt.show()"
   ]
  },
  {
   "cell_type": "markdown",
   "id": "a8817269",
   "metadata": {},
   "source": [
    "Gaan penguings met een lange vin ook meer wegen? Is er een verband en is dit hetzelfde voor mannetjes en vrouwtjes?\n",
    "Hint zoek de juiste soort plot om dit soort verbanden aan te kunnen tonen: https://seaborn.pydata.org/api.html"
   ]
  },
  {
   "cell_type": "code",
   "execution_count": 23,
   "id": "ae156ba6",
   "metadata": {},
   "outputs": [
    {
     "name": "stdout",
     "output_type": "stream",
     "text": [
      "Uit deze heatmap kunnen we afleiden dat Flipper Length en Body mass een samenhorigheid hebben van +- 0.8. Dit betekent dat ze veel met elkaar te maken hebben.\n"
     ]
    },
    {
     "data": {
      "image/png": "[encoded data removed]",
      "text/plain": [
       "<Figure size 432x288 with 2 Axes>"
      ]
     },
     "metadata": {},
     "output_type": "display_data"
    }
   ],
   "source": [
    "corr = df.corr()\n",
    "sns.heatmap(corr)\n",
    "plt.title('Heatmap van data')\n",
    "print('Uit deze heatmap kunnen we afleiden dat Flipper Length en Body mass een samenhorigheid hebben van +- 0.8. Dit betekent dat ze veel met elkaar te maken hebben.')"
   ]
  },
  {
   "cell_type": "code",
   "execution_count": 24,
   "id": "7ba81893",
   "metadata": {},
   "outputs": [
    {
     "data": {
      "image/png": "[encoded data removed]",
      "text/plain": [
       "<Figure size 432x288 with 2 Axes>"
      ]
     },
     "metadata": {},
     "output_type": "display_data"
    },
    {
     "data": {
      "image/png": "[encoded data removed]",
      "text/plain": [
       "<Figure size 432x288 with 2 Axes>"
      ]
     },
     "metadata": {},
     "output_type": "display_data"
    },
    {
     "name": "stdout",
     "output_type": "stream",
     "text": [
      "Uit deze 2 heatmaps kunnen we afleiden dat zowel voor mannetjes als vrouwtjes er een verband is tussen flipper length en body mass\n"
     ]
    }
   ],
   "source": [
    "corr = df[vrouw].corr()\n",
    "sns.heatmap(corr)\n",
    "plt.title('Heatmap van data vrouwtjes')\n",
    "plt.show()\n",
    "corr = df[men].corr()\n",
    "sns.heatmap(corr)\n",
    "plt.title('Heatmap van data mannetjes')\n",
    "plt.show()\n",
    "print('Uit deze 2 heatmaps kunnen we afleiden dat zowel voor mannetjes als vrouwtjes er een verband is tussen flipper length en body mass')"
   ]
  }
 ],
 "metadata": {
  "kernelspec": {
   "display_name": "Python 3",
   "language": "python",
   "name": "python3"
  },
  "language_info": {
   "codemirror_mode": {
    "name": "ipython",
    "version": 3
   },
   "file_extension": ".py",
   "mimetype": "text/x-python",
   "name": "python",
   "nbconvert_exporter": "python",
   "pygments_lexer": "ipython3",
   "version": "3.10.6 (v3.10.6:9c7b4bd164, Aug  1 2022, 17:13:48) [Clang 13.0.0 (clang-1300.0.29.30)]"
  },
  "vscode": {
   "interpreter": {
    "hash": "aee8b7b246df8f9039afb4144a1f6fd8d2ca17a180786b69acc140d282b71a49"
   }
  }
 },
 "nbformat": 4,
 "nbformat_minor": 5
}

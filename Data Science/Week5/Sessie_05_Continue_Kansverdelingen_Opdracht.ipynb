{
 "cells": [
  {
   "cell_type": "markdown",
   "metadata": {},
   "source": [
    "# Sessie 05 - Continue Kansverdelingen - Oplossing\n",
    "\n",
    "Reken met kansen en kansverdelingen wordt toegepast in alle domeinen van ons leven, gaande van het uitrekenen van risico’s, het voorspellen van het weer, inschatten van de impact van een reclamecampagne op de omzetcijfers van een bedrijf, modelleren van de verspreiding van een (computer) virus, etc.\n",
    "\n",
    "De normaalverdeling is de meest gekende en gebruikte kansverdeling in de statistiek. Het is een continue klokvormige kansverdeling die symmetrisch verloopt rond het gemiddelde . Ze is hoog in het midden, en wordt naar lage en hoge waarden steeds kleiner zonder ooit echt nul te worden.\n",
    "De bedoeling van deze opdracht is om vlot overweg te kunnen met deze kansverdelingen bij het uitrekenen van kansen en het kunnen bepalen van de verwachte waarden van kansverdelingen.\n",
    "\n",
    "## Inhoud\n",
    "    • Kunnen nagaan of een reeks gegevens al dan niet normaal verdeeld zijn.\n",
    "    • Rekenen met en interpreteren van de normaalverdeling.\n",
    "    • Kunnen uitrekenen van kansen bij normaalverdeelde data\n",
    "    "
   ]
  },
  {
   "cell_type": "code",
   "execution_count": 2,
   "metadata": {},
   "outputs": [],
   "source": [
    "%matplotlib inline\n",
    "import matplotlib.pyplot as plt\n",
    "import pandas as pd\n",
    "import numpy as np\n",
    "import seaborn as sns\n",
    "from scipy import stats"
   ]
  },
  {
   "cell_type": "markdown",
   "metadata": {},
   "source": [
    "## Vraag 1\n",
    "Bereken onderstaande kansen met behulp van Python."
   ]
  },
  {
   "cell_type": "code",
   "execution_count": 3,
   "metadata": {},
   "outputs": [
    {
     "name": "stdout",
     "output_type": "stream",
     "text": [
      "0.04745968180294733\n"
     ]
    }
   ],
   "source": [
    "# P(Z < -1,67) - standaardnormaalverdeling met gemiddelde 0 en standaardafwijking 1\n",
    "p = stats.norm.cdf(-1.67, loc = 0, scale = 1)\n",
    "print(p)"
   ]
  },
  {
   "cell_type": "code",
   "execution_count": 4,
   "metadata": {},
   "outputs": [
    {
     "name": "stdout",
     "output_type": "stream",
     "text": [
      "0.005233608163555781\n"
     ]
    }
   ],
   "source": [
    "# P(Z > 2,56 ) - standaardnormaalverdeling met gemiddelde 0 en standaardafwijking 1\n",
    "p = 1-(stats.norm.cdf(2.56, loc = 0, scale = 1))\n",
    "\n",
    "print(p)"
   ]
  },
  {
   "cell_type": "code",
   "execution_count": 5,
   "metadata": {},
   "outputs": [
    {
     "name": "stdout",
     "output_type": "stream",
     "text": [
      "0.08048080251909406\n"
     ]
    }
   ],
   "source": [
    "# P(1,34 < Z < 2,34) - standaardnormaalverdeling met gemiddelde 0 en standaardafwijking 1\n",
    "p = stats.norm.cdf(2.34, loc = 0, scale = 1)-stats.norm.cdf(1.34, loc = 0, scale = 1)\n",
    "print(p)"
   ]
  },
  {
   "cell_type": "code",
   "execution_count": 6,
   "metadata": {},
   "outputs": [
    {
     "name": "stdout",
     "output_type": "stream",
     "text": [
      "0.9772498680518208\n"
     ]
    }
   ],
   "source": [
    "# X~N(50;5)   P(X<60) -normaalverdeling met gemiddelde 50 en standaardafwijking 5\n",
    "p = stats.norm.cdf(60, loc = 50, scale = 5)\n",
    "print(p)"
   ]
  },
  {
   "cell_type": "code",
   "execution_count": 7,
   "metadata": {},
   "outputs": [
    {
     "name": "stdout",
     "output_type": "stream",
     "text": [
      "0.9937903346742238\n"
     ]
    }
   ],
   "source": [
    "# X~N(5;1)   P(X > 2,5) -normaalverdeling met gemiddelde 5 en standaardafwijking 1\n",
    "p = 1-(stats.norm.cdf(2.5, loc = 5, scale = 1))\n",
    "print(p)"
   ]
  },
  {
   "cell_type": "code",
   "execution_count": 8,
   "metadata": {},
   "outputs": [
    {
     "name": "stdout",
     "output_type": "stream",
     "text": [
      "0.6826894921370859\n"
     ]
    }
   ],
   "source": [
    "# X~N(120;6)   P(114 < X < 126) - normaalverdeling met gemiddelde 120 en standaardafwijking 6\n",
    "p = stats.norm.cdf(126, loc = 120, scale = 6)-stats.norm.cdf(114, loc = 120, scale = 6)\n",
    "print(p)"
   ]
  },
  {
   "cell_type": "markdown",
   "metadata": {},
   "source": [
    "## Vraag 2\n",
    "\n",
    "De batterij van de fitbit charge 2 heeft een MTTF (Mean Time To Failure = gemiddelde levensduur) van een bepaald type omvormer bedraagt 24 maanden een standaardafwijking van 6 maanden.\n",
    "De garantieperiode op een fitbit charge 2 is 1 jaar (12 maanden).\n"
   ]
  },
  {
   "cell_type": "markdown",
   "metadata": {},
   "source": [
    "a. Wat is de kans dat een fitbit binnen de garantieperiode stuk gaat?"
   ]
  },
  {
   "cell_type": "code",
   "execution_count": 9,
   "metadata": {},
   "outputs": [
    {
     "name": "stdout",
     "output_type": "stream",
     "text": [
      "0.022750131948179195\n"
     ]
    }
   ],
   "source": [
    "p = stats.norm.cdf(12, loc = 24, scale = 6)\n",
    "print(p)"
   ]
  },
  {
   "cell_type": "markdown",
   "metadata": {},
   "source": [
    "b. Stel dat na 2,5 jaar een koper beslist om de fitbit charge 3 te kopen, wat is de kans dat de fitbit charge 2 niet binnen deze periode kapot gaat?\n",
    "    "
   ]
  },
  {
   "cell_type": "code",
   "execution_count": 10,
   "metadata": {},
   "outputs": [
    {
     "name": "stdout",
     "output_type": "stream",
     "text": [
      "0.15865525393145707\n"
     ]
    }
   ],
   "source": [
    "p = 1-(stats.norm.cdf(30, loc = 24, scale = 6))\n",
    "print(p)"
   ]
  },
  {
   "cell_type": "markdown",
   "metadata": {},
   "source": [
    "c. Wat is de kans dat de fitbit charge 2 kapot gaat tussen de 1 jaar en de 2,5 jaar en je dus niet op de garantie kunt terugvallen?"
   ]
  },
  {
   "cell_type": "code",
   "execution_count": 11,
   "metadata": {},
   "outputs": [
    {
     "name": "stdout",
     "output_type": "stream",
     "text": [
      "0.8185946141203637\n"
     ]
    }
   ],
   "source": [
    "p = stats.norm.cdf(30, loc = 24, scale = 6) - stats.norm.cdf(12, loc = 24, scale = 6)\n",
    "print(p)"
   ]
  },
  {
   "cell_type": "markdown",
   "metadata": {},
   "source": [
    "d. Na hoeveel maand moet je de batterij vervangen om ervoor te zorgen dat je minder dan 10% kans hebt dat je met een kapotte fitbit komt te zitten?"
   ]
  },
  {
   "cell_type": "code",
   "execution_count": 12,
   "metadata": {},
   "outputs": [
    {
     "name": "stdout",
     "output_type": "stream",
     "text": [
      "0.9901846713713547\n"
     ]
    }
   ],
   "source": [
    "p = stats.norm.sf(10, loc = 24, scale = 6)\n",
    "print(p)"
   ]
  },
  {
   "cell_type": "markdown",
   "metadata": {},
   "source": [
    "## Vraag 3\n",
    "\n",
    "Aan een toelatingsexamen nemen 300 kandidaten deel voor 50 plaatsen. De uitslag is normaal verdeeld. De gemiddelde uitslag bedraagt 65% en de standaardafwijking is 10%. "
   ]
  },
  {
   "cell_type": "markdown",
   "metadata": {},
   "source": [
    "a. Welk percentage is vereist om aangenomen te worden indien men de 50 besten aanwerft ?"
   ]
  },
  {
   "cell_type": "code",
   "execution_count": 13,
   "metadata": {},
   "outputs": [
    {
     "name": "stdout",
     "output_type": "stream",
     "text": [
      "74.67421566101702\n"
     ]
    }
   ],
   "source": [
    "p = stats.norm.isf(50/300, 65, 10)\n",
    "print (p)"
   ]
  },
  {
   "cell_type": "markdown",
   "metadata": {},
   "source": [
    "b. Ann haalt 58 en Joachim 75. Hoeveel kandidaten komen er in de rangschikking tussen Ann en Joachim?"
   ]
  },
  {
   "cell_type": "code",
   "execution_count": 14,
   "metadata": {},
   "outputs": [
    {
     "data": {
      "text/plain": [
       "179.81432815364096"
      ]
     },
     "execution_count": 14,
     "metadata": {},
     "output_type": "execute_result"
    }
   ],
   "source": [
    "(stats.norm.cdf(75, 65, 10) - stats.norm.cdf(58, 65, 10)) * 300\n",
    "\n"
   ]
  },
  {
   "cell_type": "markdown",
   "metadata": {},
   "source": [
    "## Vraag 4\n",
    "\n",
    "De BMI is een index die de verhouding tussen lengte en gewicht bij een persoon weergeeft. De BMI wordt veel gebruikt om een indicatie te krijgen of er sprake is van overgewicht of ondergewicht.\n",
    "Om de BMI van een persoon te berekenen deel je zijn/haar gewicht door het kwadraat van de lengte. Het gewicht wordt daarbij uitgedrukt in kilogram, de lengte in meter.\n",
    "Weegt een persoon bijvoorbeeld 67kg en meet deze persoon 172cm, dan is de BMI gelijk aan:\n",
    "$\\frac{67}{1,72^2}=22,65$\n",
    "\n",
    "Alhoewel de BMI niet altijd even betrouwbaar is hanteert men volgende tabel om de BMI te interpreteren.\n",
    "\n",
    "| BMI | Interpretatie |\n",
    "   ----------------  |  ------------- \n",
    "| 18,5 tot en met 25 | Normaal gewicht |\n",
    "| 25 tot en met 27 | Licht overgewicht |\n",
    "| 27 tot en met 30 | Matig overgewicht |\n",
    "| 30 tot en met 40 | Ernstig overgewicht |\n",
    "| Meer dan 40      | Ziekelijk overgewicht\n",
    "\n",
    "Het bestand BMI.csv bevat lengtes en gewichten van personen die tijdens een steekproef werden opgemeten.\n",
    "\n",
    "a. Teken een histogram van alle BMI waarden en ga na of deze normaal verdeeld zijn. Bepaal daarvoor het gemiddelde en de standaardafwijking. Teken nu bovenop het histogram de theoretische normaalverdeling die overeen komt met het bekomen gemiddelde en de standaardafwijking. Ga ook na of ongeveer 68% van de BMI waarden binnen 1 standaardafwijking van het gemiddelde liggen en ongeveer 95 procent van de BMI waarden binnen de 2 standaardafwijkingen van het gemiddelde.\n",
    "    \n",
    "b. Herhaal het gevraagde onder vraag b, maar splits op in mannen en vrouwen. Op deze manier kunnen we straks per geslacht aparte conclusies trekken.\n",
    "    \n",
    "c. Is er een groot verschil tussen de distributie van het BMI van mannen en deze van vrouwen?\n",
    "\n",
    "d. Hoeveel procent van demannen in de dataset heeft minstens ernstig overgewicht en hoeveel procent vrouwen in de dataset?\n",
    "\n",
    "e. Hoeveel procent van de populatie (niet de steekproef) mannen heeft minstens te maken met een ernstig overgewicht? En hoeveel procent van de vrouwen?\n",
    "    \n",
    "f. Hoeveel procent van de populatie (niet de steekproef) mannen heeft een ondergewicht? En hoeveel procent van de vrouwen? Veronderstel dat de steekproef representatief is voor de populatie.\n",
    "    \n",
    "g. Ga na of er uitschieters in de dataset aanwezig zijn. Uitschieters kan je hier beschouwen als de BMI gewichten die meer dan 3 standaardafwijkingen van het gemiddelde liggen."
   ]
  },
  {
   "cell_type": "code",
   "execution_count": 25,
   "metadata": {},
   "outputs": [
    {
     "data": {
      "text/html": [
       "<div>\n",
       "<style scoped>\n",
       "    .dataframe tbody tr th:only-of-type {\n",
       "        vertical-align: middle;\n",
       "    }\n",
       "\n",
       "    .dataframe tbody tr th {\n",
       "        vertical-align: top;\n",
       "    }\n",
       "\n",
       "    .dataframe thead th {\n",
       "        text-align: right;\n",
       "    }\n",
       "</style>\n",
       "<table border=\"1\" class=\"dataframe\">\n",
       "  <thead>\n",
       "    <tr style=\"text-align: right;\">\n",
       "      <th></th>\n",
       "      <th>Sex</th>\n",
       "      <th>Age</th>\n",
       "      <th>BMI</th>\n",
       "      <th>Height_m</th>\n",
       "      <th>Weight_kg</th>\n",
       "    </tr>\n",
       "  </thead>\n",
       "  <tbody>\n",
       "    <tr>\n",
       "      <th>0</th>\n",
       "      <td>Female</td>\n",
       "      <td>21</td>\n",
       "      <td>24.2</td>\n",
       "      <td>1.670812</td>\n",
       "      <td>67.652988</td>\n",
       "    </tr>\n",
       "    <tr>\n",
       "      <th>1</th>\n",
       "      <td>Female</td>\n",
       "      <td>35</td>\n",
       "      <td>24.8</td>\n",
       "      <td>1.816608</td>\n",
       "      <td>81.723660</td>\n",
       "    </tr>\n",
       "    <tr>\n",
       "      <th>2</th>\n",
       "      <td>Female</td>\n",
       "      <td>27</td>\n",
       "      <td>29.5</td>\n",
       "      <td>1.762760</td>\n",
       "      <td>91.627019</td>\n",
       "    </tr>\n",
       "    <tr>\n",
       "      <th>3</th>\n",
       "      <td>Male</td>\n",
       "      <td>24</td>\n",
       "      <td>28.4</td>\n",
       "      <td>1.732788</td>\n",
       "      <td>85.226360</td>\n",
       "    </tr>\n",
       "    <tr>\n",
       "      <th>4</th>\n",
       "      <td>Female</td>\n",
       "      <td>18</td>\n",
       "      <td>29.1</td>\n",
       "      <td>1.721866</td>\n",
       "      <td>86.399914</td>\n",
       "    </tr>\n",
       "  </tbody>\n",
       "</table>\n",
       "</div>"
      ],
      "text/plain": [
       "      Sex  Age   BMI  Height_m  Weight_kg\n",
       "0  Female   21  24.2  1.670812  67.652988\n",
       "1  Female   35  24.8  1.816608  81.723660\n",
       "2  Female   27  29.5  1.762760  91.627019\n",
       "3    Male   24  28.4  1.732788  85.226360\n",
       "4  Female   18  29.1  1.721866  86.399914"
      ]
     },
     "execution_count": 25,
     "metadata": {},
     "output_type": "execute_result"
    }
   ],
   "source": [
    "# Inlezen van de dataset\n",
    "df_BMI = pd.read_csv('BMI_data_bewerkt.csv')\n",
    "df_BMI.head()"
   ]
  },
  {
   "cell_type": "code",
   "execution_count": 26,
   "metadata": {},
   "outputs": [
    {
     "data": {
      "image/png": "[encoded data removed]",
      "text/plain": [
       "<Figure size 432x288 with 1 Axes>"
      ]
     },
     "metadata": {
      "needs_background": "light"
     },
     "output_type": "display_data"
    }
   ],
   "source": [
    "# a. Teken een histogram van alle verkopen en ga na of deze normaal verdeeld zijn.\n",
    "sns.histplot(data = df_BMI, x = 'BMI')\n",
    "plt.title('Grafiek BMI')\n",
    "plt.show()"
   ]
  },
  {
   "cell_type": "code",
   "execution_count": 61,
   "metadata": {},
   "outputs": [
    {
     "name": "stdout",
     "output_type": "stream",
     "text": [
      "0.6883910386965377\n",
      "0.66600790513834\n"
     ]
    },
    {
     "ename": "StopIteration",
     "evalue": "",
     "output_type": "error",
     "traceback": [
      "\u001b[1;31m---------------------------------------------------------------------------\u001b[0m",
      "\u001b[1;31mStopIteration\u001b[0m                             Traceback (most recent call last)",
      "Cell \u001b[1;32mIn [61], line 20\u001b[0m\n\u001b[0;32m     17\u001b[0m test \u001b[39m=\u001b[39m df[(df[\u001b[39m'\u001b[39m\u001b[39mSex\u001b[39m\u001b[39m'\u001b[39m]\u001b[39m==\u001b[39m\u001b[39m'\u001b[39m\u001b[39mFemale\u001b[39m\u001b[39m'\u001b[39m)\u001b[39m&\u001b[39m(df[\u001b[39m'\u001b[39m\u001b[39mBMI\u001b[39m\u001b[39m'\u001b[39m]\u001b[39m>\u001b[39mavg_vrouw\u001b[39m-\u001b[39mstdev_vrouw) \u001b[39m&\u001b[39m (df[\u001b[39m'\u001b[39m\u001b[39mBMI\u001b[39m\u001b[39m'\u001b[39m]\u001b[39m<\u001b[39mavg_vrouw\u001b[39m+\u001b[39mstdev_vrouw)][\u001b[39m'\u001b[39m\u001b[39mBMI\u001b[39m\u001b[39m'\u001b[39m]\u001b[39m.\u001b[39mcount()\n\u001b[0;32m     18\u001b[0m \u001b[39mprint\u001b[39m(test\u001b[39m/\u001b[39mtotaal_vrouwen)\n\u001b[1;32m---> 20\u001b[0m sns\u001b[39m.\u001b[39;49mhistplot(x\u001b[39m=\u001b[39;49mdf[df[\u001b[39m'\u001b[39;49m\u001b[39mSex\u001b[39;49m\u001b[39m'\u001b[39;49m]\u001b[39m==\u001b[39;49m\u001b[39m\"\u001b[39;49m\u001b[39mMale\u001b[39;49m\u001b[39m\"\u001b[39;49m][\u001b[39m'\u001b[39;49m\u001b[39mBMI\u001b[39;49m\u001b[39m'\u001b[39;49m])\n\u001b[0;32m     21\u001b[0m plt\u001b[39m.\u001b[39mtitle(\u001b[39m'\u001b[39m\u001b[39mBMI mannen\u001b[39m\u001b[39m'\u001b[39m)\n\u001b[0;32m     22\u001b[0m plt\u001b[39m.\u001b[39mshow()\n",
      "File \u001b[1;32m~\\AppData\\Local\\Packages\\PythonSoftwareFoundation.Python.3.10_qbz5n2kfra8p0\\LocalCache\\local-packages\\Python310\\site-packages\\seaborn\\distributions.py:1418\u001b[0m, in \u001b[0;36mhistplot\u001b[1;34m(data, x, y, hue, weights, stat, bins, binwidth, binrange, discrete, cumulative, common_bins, common_norm, multiple, element, fill, shrink, kde, kde_kws, line_kws, thresh, pthresh, pmax, cbar, cbar_ax, cbar_kws, palette, hue_order, hue_norm, color, log_scale, legend, ax, **kwargs)\u001b[0m\n\u001b[0;32m   1416\u001b[0m     \u001b[39melse\u001b[39;00m:\n\u001b[0;32m   1417\u001b[0m         method \u001b[39m=\u001b[39m ax\u001b[39m.\u001b[39mplot\n\u001b[1;32m-> 1418\u001b[0m     color \u001b[39m=\u001b[39m _default_color(method, hue, color, kwargs)\n\u001b[0;32m   1420\u001b[0m \u001b[39mif\u001b[39;00m \u001b[39mnot\u001b[39;00m p\u001b[39m.\u001b[39mhas_xy_data:\n\u001b[0;32m   1421\u001b[0m     \u001b[39mreturn\u001b[39;00m ax\n",
      "File \u001b[1;32m~\\AppData\\Local\\Packages\\PythonSoftwareFoundation.Python.3.10_qbz5n2kfra8p0\\LocalCache\\local-packages\\Python310\\site-packages\\seaborn\\utils.py:139\u001b[0m, in \u001b[0;36m_default_color\u001b[1;34m(method, hue, color, kws)\u001b[0m\n\u001b[0;32m    134\u001b[0m     scout\u001b[39m.\u001b[39mremove()\n\u001b[0;32m    136\u001b[0m \u001b[39melif\u001b[39;00m method\u001b[39m.\u001b[39m\u001b[39m__name__\u001b[39m \u001b[39m==\u001b[39m \u001b[39m\"\u001b[39m\u001b[39mbar\u001b[39m\u001b[39m\"\u001b[39m:\n\u001b[0;32m    137\u001b[0m \n\u001b[0;32m    138\u001b[0m     \u001b[39m# bar() needs masked, not empty data, to generate a patch\u001b[39;00m\n\u001b[1;32m--> 139\u001b[0m     scout, \u001b[39m=\u001b[39m method([np\u001b[39m.\u001b[39mnan], [np\u001b[39m.\u001b[39mnan], \u001b[39m*\u001b[39m\u001b[39m*\u001b[39mkws)\n\u001b[0;32m    140\u001b[0m     color \u001b[39m=\u001b[39m to_rgb(scout\u001b[39m.\u001b[39mget_facecolor())\n\u001b[0;32m    141\u001b[0m     scout\u001b[39m.\u001b[39mremove()\n",
      "File \u001b[1;32m~\\AppData\\Local\\Packages\\PythonSoftwareFoundation.Python.3.10_qbz5n2kfra8p0\\LocalCache\\local-packages\\Python310\\site-packages\\matplotlib\\__init__.py:1423\u001b[0m, in \u001b[0;36m_preprocess_data.<locals>.inner\u001b[1;34m(ax, data, *args, **kwargs)\u001b[0m\n\u001b[0;32m   1420\u001b[0m \u001b[39m@functools\u001b[39m\u001b[39m.\u001b[39mwraps(func)\n\u001b[0;32m   1421\u001b[0m \u001b[39mdef\u001b[39;00m \u001b[39minner\u001b[39m(ax, \u001b[39m*\u001b[39margs, data\u001b[39m=\u001b[39m\u001b[39mNone\u001b[39;00m, \u001b[39m*\u001b[39m\u001b[39m*\u001b[39mkwargs):\n\u001b[0;32m   1422\u001b[0m     \u001b[39mif\u001b[39;00m data \u001b[39mis\u001b[39;00m \u001b[39mNone\u001b[39;00m:\n\u001b[1;32m-> 1423\u001b[0m         \u001b[39mreturn\u001b[39;00m func(ax, \u001b[39m*\u001b[39m\u001b[39mmap\u001b[39m(sanitize_sequence, args), \u001b[39m*\u001b[39m\u001b[39m*\u001b[39mkwargs)\n\u001b[0;32m   1425\u001b[0m     bound \u001b[39m=\u001b[39m new_sig\u001b[39m.\u001b[39mbind(ax, \u001b[39m*\u001b[39margs, \u001b[39m*\u001b[39m\u001b[39m*\u001b[39mkwargs)\n\u001b[0;32m   1426\u001b[0m     auto_label \u001b[39m=\u001b[39m (bound\u001b[39m.\u001b[39marguments\u001b[39m.\u001b[39mget(label_namer)\n\u001b[0;32m   1427\u001b[0m                   \u001b[39mor\u001b[39;00m bound\u001b[39m.\u001b[39mkwargs\u001b[39m.\u001b[39mget(label_namer))\n",
      "File \u001b[1;32m~\\AppData\\Local\\Packages\\PythonSoftwareFoundation.Python.3.10_qbz5n2kfra8p0\\LocalCache\\local-packages\\Python310\\site-packages\\matplotlib\\axes\\_axes.py:2373\u001b[0m, in \u001b[0;36mAxes.bar\u001b[1;34m(self, x, height, width, bottom, align, **kwargs)\u001b[0m\n\u001b[0;32m   2371\u001b[0m x0 \u001b[39m=\u001b[39m x\n\u001b[0;32m   2372\u001b[0m x \u001b[39m=\u001b[39m np\u001b[39m.\u001b[39masarray(\u001b[39mself\u001b[39m\u001b[39m.\u001b[39mconvert_xunits(x))\n\u001b[1;32m-> 2373\u001b[0m width \u001b[39m=\u001b[39m \u001b[39mself\u001b[39;49m\u001b[39m.\u001b[39;49m_convert_dx(width, x0, x, \u001b[39mself\u001b[39;49m\u001b[39m.\u001b[39;49mconvert_xunits)\n\u001b[0;32m   2374\u001b[0m \u001b[39mif\u001b[39;00m xerr \u001b[39mis\u001b[39;00m \u001b[39mnot\u001b[39;00m \u001b[39mNone\u001b[39;00m:\n\u001b[0;32m   2375\u001b[0m     xerr \u001b[39m=\u001b[39m \u001b[39mself\u001b[39m\u001b[39m.\u001b[39m_convert_dx(xerr, x0, x, \u001b[39mself\u001b[39m\u001b[39m.\u001b[39mconvert_xunits)\n",
      "File \u001b[1;32m~\\AppData\\Local\\Packages\\PythonSoftwareFoundation.Python.3.10_qbz5n2kfra8p0\\LocalCache\\local-packages\\Python310\\site-packages\\matplotlib\\axes\\_axes.py:2182\u001b[0m, in \u001b[0;36mAxes._convert_dx\u001b[1;34m(dx, x0, xconv, convert)\u001b[0m\n\u001b[0;32m   2170\u001b[0m \u001b[39mtry\u001b[39;00m:\n\u001b[0;32m   2171\u001b[0m     \u001b[39m# attempt to add the width to x0; this works for\u001b[39;00m\n\u001b[0;32m   2172\u001b[0m     \u001b[39m# datetime+timedelta, for instance\u001b[39;00m\n\u001b[1;32m   (...)\u001b[0m\n\u001b[0;32m   2179\u001b[0m     \u001b[39m# removes the units from unit packages like `pint` that\u001b[39;00m\n\u001b[0;32m   2180\u001b[0m     \u001b[39m# wrap numpy arrays.\u001b[39;00m\n\u001b[0;32m   2181\u001b[0m     \u001b[39mtry\u001b[39;00m:\n\u001b[1;32m-> 2182\u001b[0m         x0 \u001b[39m=\u001b[39m cbook\u001b[39m.\u001b[39;49m_safe_first_finite(x0)\n\u001b[0;32m   2183\u001b[0m     \u001b[39mexcept\u001b[39;00m (\u001b[39mTypeError\u001b[39;00m, \u001b[39mIndexError\u001b[39;00m, \u001b[39mKeyError\u001b[39;00m):\n\u001b[0;32m   2184\u001b[0m         \u001b[39mpass\u001b[39;00m\n",
      "File \u001b[1;32m~\\AppData\\Local\\Packages\\PythonSoftwareFoundation.Python.3.10_qbz5n2kfra8p0\\LocalCache\\local-packages\\Python310\\site-packages\\matplotlib\\cbook\\__init__.py:1749\u001b[0m, in \u001b[0;36m_safe_first_finite\u001b[1;34m(obj, skip_nonfinite)\u001b[0m\n\u001b[0;32m   1746\u001b[0m     \u001b[39mraise\u001b[39;00m \u001b[39mRuntimeError\u001b[39;00m(\u001b[39m\"\u001b[39m\u001b[39mmatplotlib does not \u001b[39m\u001b[39m\"\u001b[39m\n\u001b[0;32m   1747\u001b[0m                        \u001b[39m\"\u001b[39m\u001b[39msupport generators as input\u001b[39m\u001b[39m\"\u001b[39m)\n\u001b[0;32m   1748\u001b[0m \u001b[39melse\u001b[39;00m:\n\u001b[1;32m-> 1749\u001b[0m     \u001b[39mreturn\u001b[39;00m \u001b[39mnext\u001b[39;49m(val \u001b[39mfor\u001b[39;49;00m val \u001b[39min\u001b[39;49;00m obj \u001b[39mif\u001b[39;49;00m safe_isfinite(val))\n",
      "\u001b[1;31mStopIteration\u001b[0m: "
     ]
    },
    {
     "data": {
      "image/png": "[encoded data removed]",
      "text/plain": [
       "<Figure size 640x480 with 1 Axes>"
      ]
     },
     "metadata": {},
     "output_type": "display_data"
    }
   ],
   "source": [
    "# b. Herhaal het gevraagde onder vraag b, maar splits op in mannen en vrouwen.. \n",
    "man = df['Sex']==\"Male\"\n",
    "vrouw = df['Sex']==\"Female\"\n",
    "\n",
    "totaal_mannen = df[man]['BMI'].count()\n",
    "totaal_vrouwen = df[vrouw]['BMI'].count()\n",
    "\n",
    "avg_man = df[man]['BMI'].mean()\n",
    "stdev_man = df[man]['BMI'].std()\n",
    "\n",
    "avg_vrouw = df[vrouw]['BMI'].mean()\n",
    "stdev_vrouw = df[vrouw]['BMI'].std()\n",
    "\n",
    "test = df[(df['Sex']=='Male')&(df['BMI']>avg_man-stdev_man) & (df['BMI']<avg_man+stdev_man)]['BMI'].count()\n",
    "print(test/totaal_mannen)\n",
    "\n",
    "test = df[(df['Sex']=='Female')&(df['BMI']>avg_vrouw-stdev_vrouw) & (df['BMI']<avg_vrouw+stdev_vrouw)]['BMI'].count()\n",
    "print(test/totaal_vrouwen)\n",
    "\n",
    "sns.histplot(x=df[df['Sex']==\"Male\"]['BMI'])\n",
    "plt.title('BMI mannen')\n",
    "plt.show()\n",
    "\n",
    "sns.histplot(x=df[df['Sex']==\"Female\"]['BMI'])\n",
    "plt.title('BMI vrouwen')"
   ]
  },
  {
   "cell_type": "code",
   "execution_count": null,
   "metadata": {},
   "outputs": [],
   "source": [
    "# c. Is er een groot verschil tussen de distributie van het BMI van mannen en deze van vrouwenen? Verklaar ...\n"
   ]
  },
  {
   "cell_type": "code",
   "execution_count": null,
   "metadata": {},
   "outputs": [],
   "source": [
    "# d. Hoeveel procent van de mannen in de dataset heeft minstens ernstig overgewicht en hoeveel procent vrouwen in de dataset?\n"
   ]
  },
  {
   "cell_type": "code",
   "execution_count": null,
   "metadata": {},
   "outputs": [],
   "source": [
    "# e. Hoeveel procent van de populatie (niet de steekproef) mannen heeft minstens te maken met \n",
    "#    een ernstig overgewicht? En hoeveel procent van de vrouwen?\n"
   ]
  },
  {
   "cell_type": "code",
   "execution_count": null,
   "metadata": {},
   "outputs": [],
   "source": [
    "# f. Hoeveel procent van de populatie (niet de steekproef) mannen heeft een ondergewicht? \n",
    "#    En hoeveel procent van de vrouwen? Veronderstel dat de steekproef representatief is voor de populatie.\n"
   ]
  },
  {
   "cell_type": "code",
   "execution_count": null,
   "metadata": {},
   "outputs": [],
   "source": [
    "# g. Ga na of er uitschieters in de dataset aanwezig zijn. \n",
    "#    Uitschieters kan je hier beschouwen als de BMI gewichten die meer dan 3 standaardafwijkingen\n",
    "#    van het gemiddelde liggen.\n"
   ]
  },
  {
   "cell_type": "markdown",
   "metadata": {},
   "source": [
    "## Vraag 5\n",
    "Een kledingfabrikant wil een nieuwe riem op de markt brengen. Er is een variant voor Malenen en een variant voor Femaleen. Elke variant komt in smal, medium en large.\n",
    "Elk soort riem is qua lengte als volgt verstelbaar:\n",
    "\n",
    "\n",
    "|      Variant       | Mannen| Vrouwen |\n",
    "|------------|-----|---------------|\n",
    "| Smal |  Van 75 cm tot 87 cm|  Van 73 cm tot 85 cm|\n",
    "| Medium | Van 85 cm tot 100 cm| Van 80 cm tot 95 cm|\n",
    "| Large | Van 97 cm tot 110 cm  | Van 90 cm tot 107 cm|\n",
    "\n",
    "\n",
    "Om een inschatting te kunnen maken van de productieaantallen laat de fabrikant een onderzoek uitvoeren naar de heupomtrek bij Malenen en Femaleen. De gegevens kan je terugvinden onder het bestand 'riemen.csv'.\n"
   ]
  },
  {
   "cell_type": "code",
   "execution_count": 13,
   "metadata": {},
   "outputs": [
    {
     "data": {
      "text/html": [
       "<div>\n",
       "<style scoped>\n",
       "    .dataframe tbody tr th:only-of-type {\n",
       "        vertical-align: middle;\n",
       "    }\n",
       "\n",
       "    .dataframe tbody tr th {\n",
       "        vertical-align: top;\n",
       "    }\n",
       "\n",
       "    .dataframe thead th {\n",
       "        text-align: right;\n",
       "    }\n",
       "</style>\n",
       "<table border=\"1\" class=\"dataframe\">\n",
       "  <thead>\n",
       "    <tr style=\"text-align: right;\">\n",
       "      <th></th>\n",
       "      <th>Heupomtrek</th>\n",
       "      <th>Geslacht</th>\n",
       "    </tr>\n",
       "  </thead>\n",
       "  <tbody>\n",
       "    <tr>\n",
       "      <th>0</th>\n",
       "      <td>93.5</td>\n",
       "      <td>M</td>\n",
       "    </tr>\n",
       "    <tr>\n",
       "      <th>1</th>\n",
       "      <td>94.8</td>\n",
       "      <td>M</td>\n",
       "    </tr>\n",
       "    <tr>\n",
       "      <th>2</th>\n",
       "      <td>95.0</td>\n",
       "      <td>M</td>\n",
       "    </tr>\n",
       "    <tr>\n",
       "      <th>3</th>\n",
       "      <td>94.0</td>\n",
       "      <td>M</td>\n",
       "    </tr>\n",
       "    <tr>\n",
       "      <th>4</th>\n",
       "      <td>98.5</td>\n",
       "      <td>M</td>\n",
       "    </tr>\n",
       "  </tbody>\n",
       "</table>\n",
       "</div>"
      ],
      "text/plain": [
       "   Heupomtrek Geslacht\n",
       "0        93.5        M\n",
       "1        94.8        M\n",
       "2        95.0        M\n",
       "3        94.0        M\n",
       "4        98.5        M"
      ]
     },
     "execution_count": 13,
     "metadata": {},
     "output_type": "execute_result"
    }
   ],
   "source": [
    "dataset = pd.read_csv('riemen.csv')\n",
    "dataset.head()"
   ]
  },
  {
   "cell_type": "markdown",
   "metadata": {},
   "source": [
    "a. Ga na of deze data normaalverdeeld is. Doe dit door de kansverdeling te plotten en door na te gaan hoeveel procent van de gegevens binnen de 1, 2 en 3 standaardafwijkingen is gelegen. Vergelijk met de werkelijke normaalverdeling die hoort bij het berekende gemiddelde en standaardafwijking.  Doe de analyse ook apart voor mannen en vrouwen."
   ]
  },
  {
   "cell_type": "code",
   "execution_count": 15,
   "metadata": {},
   "outputs": [],
   "source": [
    "dataset_mannen = dataset[dataset.Geslacht == \"M\"]\n"
   ]
  },
  {
   "cell_type": "markdown",
   "metadata": {},
   "source": [
    "b. Vergelijk de maten van de mannen en de vrouwen in termen van gemiddelde en spreiding."
   ]
  },
  {
   "cell_type": "code",
   "execution_count": 16,
   "metadata": {},
   "outputs": [
    {
     "name": "stderr",
     "output_type": "stream",
     "text": [
      "C:\\Users\\arnow\\AppData\\Local\\Temp\\ipykernel_24624\\3661228828.py:10: UserWarning: Boolean Series key will be reindexed to match DataFrame index.\n",
      "  dataset_mannen_1_standaardafwijking = dataset_mannen[voorwaarde1 & voorwaarde2]\n"
     ]
    },
    {
     "data": {
      "text/plain": [
       "0.7004048582995951"
      ]
     },
     "execution_count": 16,
     "metadata": {},
     "output_type": "execute_result"
    }
   ],
   "source": [
    "mannen_gemiddeld = dataset_mannen['Heupomtrek'].mean()\n",
    "mannen_standaardafwijking = dataset_mannen['Heupomtrek'].std()\n",
    "\n",
    "ondergrens_1 = mannen_gemiddeld - 1*mannen_standaardafwijking\n",
    "bovengrens_1 = mannen_gemiddeld + 1*mannen_standaardafwijking\n",
    "\n",
    "voorwaarde1 = dataset['Heupomtrek'] >= ondergrens_1\n",
    "voorwaarde2 = dataset['Heupomtrek'] <= bovengrens_1\n",
    "\n",
    "dataset_mannen_1_standaardafwijking = dataset_mannen[voorwaarde1 & voorwaarde2]\n",
    "dataset_mannen_1_standaardafwijking.shape[0] / dataset_mannen.shape[0]"
   ]
  },
  {
   "cell_type": "markdown",
   "metadata": {},
   "source": [
    "c. In de veronderstelling dat de data normaalverdeeld is, bereken telkens **voor de populatie** hoeveel procent van de mannen maat smal, medium en large kan dragen. Doe dit ook voor Vrouwen. Vul daarbij onderstaande tabel aan.\n",
    "\n",
    "|       Variant     | Mannen| Vrouwen |\n",
    "|------------|-----:|---------------:|\n",
    "| Smal |     %|     %|\n",
    "| Medium |     %|     %|\n",
    "| Large |      %|     %|\n",
    "| Smal |  Van 75 cm tot 87 cm|  Van 73 cm tot 85 cm|\n",
    "| Medium | Van 85 cm tot 100 cm| Van 80 cm tot 95 cm|\n",
    "| Large | Van 97 cm tot 110 cm  | Van 90 cm tot 107 cm|"
   ]
  },
  {
   "cell_type": "code",
   "execution_count": null,
   "metadata": {},
   "outputs": [],
   "source": []
  },
  {
   "cell_type": "markdown",
   "metadata": {},
   "source": [
    "d. Bij hoeveel procent van de mannen past zowel smal als medium?"
   ]
  },
  {
   "cell_type": "code",
   "execution_count": null,
   "metadata": {},
   "outputs": [],
   "source": []
  },
  {
   "cell_type": "markdown",
   "metadata": {},
   "source": [
    "e. Bij hoeveel procent van de vrouwen past zowel medium als large?"
   ]
  },
  {
   "cell_type": "code",
   "execution_count": null,
   "metadata": {},
   "outputs": [],
   "source": []
  },
  {
   "cell_type": "markdown",
   "metadata": {},
   "source": [
    "f. Bij hoeveel procent van de mannen past geen enkele maat?"
   ]
  },
  {
   "cell_type": "code",
   "execution_count": null,
   "metadata": {},
   "outputs": [],
   "source": []
  },
  {
   "cell_type": "markdown",
   "metadata": {},
   "source": [
    "g. Bij hoeveel procent van de vrouwen past geen enkele maat?"
   ]
  },
  {
   "cell_type": "code",
   "execution_count": null,
   "metadata": {},
   "outputs": [],
   "source": []
  }
 ],
 "metadata": {
  "kernelspec": {
   "display_name": "Python 3",
   "language": "python",
   "name": "python3"
  },
  "language_info": {
   "codemirror_mode": {
    "name": "ipython",
    "version": 3
   },
   "file_extension": ".py",
   "mimetype": "text/x-python",
   "name": "python",
   "nbconvert_exporter": "python",
   "pygments_lexer": "ipython3",
   "version": "3.10.6 (v3.10.6:9c7b4bd164, Aug  1 2022, 17:13:48) [Clang 13.0.0 (clang-1300.0.29.30)]"
  },
  "vscode": {
   "interpreter": {
    "hash": "aee8b7b246df8f9039afb4144a1f6fd8d2ca17a180786b69acc140d282b71a49"
   }
  }
 },
 "nbformat": 4,
 "nbformat_minor": 4
}

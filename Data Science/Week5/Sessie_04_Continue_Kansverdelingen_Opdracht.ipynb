{
 "cells": [
  {
   "cell_type": "markdown",
   "metadata": {},
   "source": [
    "# Sessie 05 - Continue Kansverdelingen - Oplossing\n",
    "\n",
    "Reken met kansen en kansverdelingen wordt toegepast in alle domeinen van ons leven, gaande van het uitrekenen van risico’s, het voorspellen van het weer, inschatten van de impact van een reclamecampagne op de omzetcijfers van een bedrijf, modelleren van de verspreiding van een (computer) virus, etc.\n",
    "\n",
    "De normaalverdeling is de meest gekende en gebruikte kansverdeling in de statistiek. Het is een continue klokvormige kansverdeling die symmetrisch verloopt rond het gemiddelde . Ze is hoog in het midden, en wordt naar lage en hoge waarden steeds kleiner zonder ooit echt nul te worden.\n",
    "De bedoeling van deze opdracht is om vlot overweg te kunnen met deze kansverdelingen bij het uitrekenen van kansen en het kunnen bepalen van de verwachte waarden van kansverdelingen.\n",
    "\n",
    "## Inhoud\n",
    "    • Kunnen nagaan of een reeks gegevens al dan niet normaal verdeeld zijn.\n",
    "    • Rekenen met en interpreteren van de normaalverdeling.\n",
    "    • Kunnen uitrekenen van kansen bij normaalverdeelde data\n",
    "    "
   ]
  },
  {
   "cell_type": "code",
   "execution_count": 1,
   "metadata": {},
   "outputs": [],
   "source": [
    "%matplotlib inline\n",
    "import matplotlib.pyplot as plt\n",
    "import pandas as pd\n",
    "import numpy as np\n",
    "import seaborn as sns\n",
    "from scipy import stats"
   ]
  },
  {
   "cell_type": "markdown",
   "metadata": {},
   "source": [
    "## Vraag 1\n",
    "Bereken onderstaande kansen met behulp van Python."
   ]
  },
  {
   "cell_type": "code",
   "execution_count": 2,
   "metadata": {},
   "outputs": [
    {
     "data": {
      "text/plain": [
       "0.04745968180294733"
      ]
     },
     "execution_count": 2,
     "metadata": {},
     "output_type": "execute_result"
    }
   ],
   "source": [
    "# P(Z < -1,67) - standaardnormaalverdeling met gemiddelde 0 en standaardafwijking 1\n",
    "stats.norm.cdf(-1.67,0,1)"
   ]
  },
  {
   "cell_type": "code",
   "execution_count": 3,
   "metadata": {},
   "outputs": [
    {
     "data": {
      "text/plain": [
       "0.005233608163555782"
      ]
     },
     "execution_count": 3,
     "metadata": {},
     "output_type": "execute_result"
    }
   ],
   "source": [
    "# P(Z > 2,56 ) - standaardnormaalverdeling met gemiddelde 0 en standaardafwijking 1\n",
    "stats.norm.sf(2.56,0,1)"
   ]
  },
  {
   "cell_type": "code",
   "execution_count": 4,
   "metadata": {},
   "outputs": [
    {
     "data": {
      "text/plain": [
       "0.08048080251909406"
      ]
     },
     "execution_count": 4,
     "metadata": {},
     "output_type": "execute_result"
    }
   ],
   "source": [
    "# P(1,34 < Z < 2,34) - standaardnormaalverdeling met gemiddelde 0 en standaardafwijking 1\n",
    "stats.norm.cdf(2.34,0,1) - stats.norm.cdf(1.34,0,1)"
   ]
  },
  {
   "cell_type": "code",
   "execution_count": 5,
   "metadata": {},
   "outputs": [
    {
     "data": {
      "text/plain": [
       "0.9772498680518208"
      ]
     },
     "execution_count": 5,
     "metadata": {},
     "output_type": "execute_result"
    }
   ],
   "source": [
    "# X~N(50;5)   P(X<60) -normaalverdeling met gemiddelde 50 en standaardafwijking 5\n",
    "stats.norm.cdf(60,50,5)"
   ]
  },
  {
   "cell_type": "code",
   "execution_count": 6,
   "metadata": {},
   "outputs": [
    {
     "data": {
      "text/plain": [
       "0.9937903346742238"
      ]
     },
     "execution_count": 6,
     "metadata": {},
     "output_type": "execute_result"
    }
   ],
   "source": [
    "# X~N(5;1)   P(X > 2,5) -normaalverdeling met gemiddelde 5 en standaardafwijking 1\n",
    "stats.norm.sf(2.5,5,1)"
   ]
  },
  {
   "cell_type": "code",
   "execution_count": 7,
   "metadata": {},
   "outputs": [
    {
     "data": {
      "text/plain": [
       "0.6826894921370859"
      ]
     },
     "execution_count": 7,
     "metadata": {},
     "output_type": "execute_result"
    }
   ],
   "source": [
    "# X~N(120;6)   P(114 < X < 126) - normaalverdeling met gemiddelde 120 en standaardafwijking 6\n",
    "stats.norm.cdf(126,120,6) - stats.norm.cdf(114,120,6)"
   ]
  },
  {
   "cell_type": "markdown",
   "metadata": {},
   "source": [
    "## Vraag 2\n",
    "\n",
    "De batterij van de fitbit charge 2 heeft een MTTF (Mean Time To Failure = gemiddelde levensduur) van een bepaald type omvormer bedraagt 24 maanden een standaardafwijking van 6 maanden.\n",
    "De garantieperiode op een fitbit charge 2 is 1 jaar (12 maanden).\n"
   ]
  },
  {
   "cell_type": "markdown",
   "metadata": {},
   "source": [
    "a. Wat is de kans dat een fitbit binnen de garantieperiode stuk gaat?"
   ]
  },
  {
   "cell_type": "code",
   "execution_count": 8,
   "metadata": {},
   "outputs": [
    {
     "data": {
      "text/plain": [
       "0.022750131948179195"
      ]
     },
     "execution_count": 8,
     "metadata": {},
     "output_type": "execute_result"
    }
   ],
   "source": [
    "stats.norm.cdf(12,24,6)"
   ]
  },
  {
   "cell_type": "markdown",
   "metadata": {},
   "source": [
    "b. Stel dat na 2,5 jaar een koper beslist om de fitbit charge 3 te kopen, wat is de kans dat de fitbit charge 2 niet binnen deze periode kapot gaat?\n",
    "    "
   ]
  },
  {
   "cell_type": "code",
   "execution_count": 9,
   "metadata": {},
   "outputs": [
    {
     "data": {
      "text/plain": [
       "0.15865525393145707"
      ]
     },
     "execution_count": 9,
     "metadata": {},
     "output_type": "execute_result"
    }
   ],
   "source": [
    "stats.norm.sf(30,24,6)"
   ]
  },
  {
   "cell_type": "markdown",
   "metadata": {},
   "source": [
    "c. Wat is de kans dat de fitbit charge 2 kapot gaat tussen de 1 jaar en de 2,5 jaar en je dus niet op de garantie kunt terugvallen?"
   ]
  },
  {
   "cell_type": "code",
   "execution_count": 10,
   "metadata": {},
   "outputs": [
    {
     "data": {
      "text/plain": [
       "0.8185946141203637"
      ]
     },
     "execution_count": 10,
     "metadata": {},
     "output_type": "execute_result"
    }
   ],
   "source": [
    "stats.norm.cdf(30,24,6)-stats.norm.cdf(12,24,6)"
   ]
  },
  {
   "cell_type": "markdown",
   "metadata": {},
   "source": [
    "d. Na hoeveel maand moet je de batterij vervangen om ervoor te zorgen dat je minder dan 10% kans hebt dat je met een kapotte fitbit komt te zitten?"
   ]
  },
  {
   "cell_type": "code",
   "execution_count": 11,
   "metadata": {},
   "outputs": [
    {
     "data": {
      "text/plain": [
       "16.310690606732397"
      ]
     },
     "execution_count": 11,
     "metadata": {},
     "output_type": "execute_result"
    }
   ],
   "source": [
    "stats.norm.isf(0.90,24,6)"
   ]
  },
  {
   "cell_type": "markdown",
   "metadata": {},
   "source": [
    "## Vraag 3\n",
    "\n",
    "Aan een toelatingsexamen nemen 300 kandidaten deel voor 50 plaatsen. De uitslag is normaal verdeeld. De gemiddelde uitslag bedraagt 65% en de standaardafwijking is 10%. "
   ]
  },
  {
   "cell_type": "markdown",
   "metadata": {},
   "source": [
    "a. Welk percentage is vereist om aangenomen te worden indien men de 50 besten aanwerft ?"
   ]
  },
  {
   "cell_type": "code",
   "execution_count": 12,
   "metadata": {},
   "outputs": [
    {
     "data": {
      "text/plain": [
       "74.67421566101702"
      ]
     },
     "execution_count": 12,
     "metadata": {},
     "output_type": "execute_result"
    }
   ],
   "source": [
    "stats.norm.isf(1/6,65,10)"
   ]
  },
  {
   "cell_type": "markdown",
   "metadata": {},
   "source": [
    "b. Ann haalt 58 en Joachim 75. Hoeveel kandidaten komen er in de rangschikking tussen Ann en Joachim?"
   ]
  },
  {
   "cell_type": "code",
   "execution_count": 13,
   "metadata": {},
   "outputs": [
    {
     "data": {
      "text/plain": [
       "179.81432815364096"
      ]
     },
     "execution_count": 13,
     "metadata": {},
     "output_type": "execute_result"
    }
   ],
   "source": [
    "(stats.norm.cdf(75,65,10)-stats.norm.cdf(58,65,10)) * 300"
   ]
  },
  {
   "cell_type": "markdown",
   "metadata": {},
   "source": [
    "## Vraag 4\n",
    "\n",
    "De BMI is een index die de verhouding tussen lengte en gewicht bij een persoon weergeeft. De BMI wordt veel gebruikt om een indicatie te krijgen of er sprake is van overgewicht of ondergewicht.\n",
    "Om de BMI van een persoon te berekenen deel je zijn/haar gewicht door het kwadraat van de lengte. Het gewicht wordt daarbij uitgedrukt in kilogram, de lengte in meter.\n",
    "Weegt een persoon bijvoorbeeld 67kg en meet deze persoon 172cm, dan is de BMI gelijk aan:\n",
    "$\\frac{67}{1,72^2}=22,65$\n",
    "\n",
    "Alhoewel de BMI niet altijd even betrouwbaar is hanteert men volgende tabel om de BMI te interpreteren.\n",
    "\n",
    "| BMI | Interpretatie |\n",
    "   ----------------  |  ------------- \n",
    "| 18,5 tot en met 25 | Normaal gewicht |\n",
    "| 25 tot en met 27 | Licht overgewicht |\n",
    "| 27 tot en met 30 | Matig overgewicht |\n",
    "| 30 tot en met 40 | Ernstig overgewicht |\n",
    "| Meer dan 40      | Ziekelijk overgewicht\n",
    "\n",
    "Het bestand BMI.csv bevat lengtes en gewichten van personen die tijdens een steekproef werden opgemeten.\n",
    "\n",
    "a. Teken een histogram van alle BMI waarden en ga na of deze normaal verdeeld zijn. Bepaal daarvoor het gemiddelde en de standaardafwijking. Teken nu bovenop het histogram de theoretische normaalverdeling die overeen komt met het bekomen gemiddelde en de standaardafwijking. Ga ook na of ongeveer 68% van de BMI waarden binnen 1 standaardafwijking van het gemiddelde liggen en ongeveer 95 procent van de BMI waarden binnen de 2 standaardafwijkingen van het gemiddelde.\n",
    "    \n",
    "b. Herhaal het gevraagde onder vraag b, maar splits op in mannen en vrouwen. Op deze manier kunnen we straks per geslacht aparte conclusies trekken.\n",
    "    \n",
    "c. Is er een groot verschil tussen de distributie van het BMI van mannen en deze van vrouwen?\n",
    "\n",
    "d. Hoeveel procent van demannen in de df heeft minstens ernstig overgewicht en hoeveel procent vrouwen in de dataset?\n",
    "\n",
    "e. Hoeveel procent van de populatie (niet de steekproef) mannen heeft minstens te maken met een ernstig overgewicht? En hoeveel procent van de vrouwen?\n",
    "    \n",
    "f. Hoeveel procent van de populatie (niet de steekproef) mannen heeft een ondergewicht? En hoeveel procent van de vrouwen? Veronderstel dat de steekproef representatief is voor de populatie.\n",
    "    \n",
    "g. Ga na of er uitschieters in de dataset aanwezig zijn. Uitschieters kan je hier beschouwen als de BMI gewichten die meer dan 3 standaardafwijkingen van het gemiddelde liggen."
   ]
  },
  {
   "cell_type": "code",
   "execution_count": 14,
   "metadata": {},
   "outputs": [
    {
     "data": {
      "text/html": [
       "<div>\n",
       "<style scoped>\n",
       "    .dataframe tbody tr th:only-of-type {\n",
       "        vertical-align: middle;\n",
       "    }\n",
       "\n",
       "    .dataframe tbody tr th {\n",
       "        vertical-align: top;\n",
       "    }\n",
       "\n",
       "    .dataframe thead th {\n",
       "        text-align: right;\n",
       "    }\n",
       "</style>\n",
       "<table border=\"1\" class=\"dataframe\">\n",
       "  <thead>\n",
       "    <tr style=\"text-align: right;\">\n",
       "      <th></th>\n",
       "      <th>Sex</th>\n",
       "      <th>Age</th>\n",
       "      <th>BMI</th>\n",
       "      <th>Height_m</th>\n",
       "      <th>Weight_kg</th>\n",
       "    </tr>\n",
       "  </thead>\n",
       "  <tbody>\n",
       "    <tr>\n",
       "      <th>0</th>\n",
       "      <td>Female</td>\n",
       "      <td>21</td>\n",
       "      <td>24.2</td>\n",
       "      <td>1.670812</td>\n",
       "      <td>67.652988</td>\n",
       "    </tr>\n",
       "    <tr>\n",
       "      <th>1</th>\n",
       "      <td>Female</td>\n",
       "      <td>35</td>\n",
       "      <td>24.8</td>\n",
       "      <td>1.816608</td>\n",
       "      <td>81.723660</td>\n",
       "    </tr>\n",
       "    <tr>\n",
       "      <th>2</th>\n",
       "      <td>Female</td>\n",
       "      <td>27</td>\n",
       "      <td>29.5</td>\n",
       "      <td>1.762760</td>\n",
       "      <td>91.627019</td>\n",
       "    </tr>\n",
       "    <tr>\n",
       "      <th>3</th>\n",
       "      <td>Male</td>\n",
       "      <td>24</td>\n",
       "      <td>28.4</td>\n",
       "      <td>1.732788</td>\n",
       "      <td>85.226360</td>\n",
       "    </tr>\n",
       "    <tr>\n",
       "      <th>4</th>\n",
       "      <td>Female</td>\n",
       "      <td>18</td>\n",
       "      <td>29.1</td>\n",
       "      <td>1.721866</td>\n",
       "      <td>86.399914</td>\n",
       "    </tr>\n",
       "  </tbody>\n",
       "</table>\n",
       "</div>"
      ],
      "text/plain": [
       "      Sex  Age   BMI  Height_m  Weight_kg\n",
       "0  Female   21  24.2  1.670812  67.652988\n",
       "1  Female   35  24.8  1.816608  81.723660\n",
       "2  Female   27  29.5  1.762760  91.627019\n",
       "3    Male   24  28.4  1.732788  85.226360\n",
       "4  Female   18  29.1  1.721866  86.399914"
      ]
     },
     "execution_count": 14,
     "metadata": {},
     "output_type": "execute_result"
    }
   ],
   "source": [
    "# Inlezen van de dataset\n",
    "dataset = pd.read_csv('BMI_data_bewerkt.csv')\n",
    "dataset.head()"
   ]
  },
  {
   "cell_type": "code",
   "execution_count": 15,
   "metadata": {},
   "outputs": [],
   "source": [
    "def histogram(data,x,y='',title=''):\n",
    "    if y=='':         \n",
    "        sns.histplot(data=data, x=x)\n",
    "        title = f'Graafiek van {x}'\n",
    "        plt.title(title)\n",
    "        plt.show()\n",
    "        pass\n",
    "    else:\n",
    "        sns.histplot(data=data, x=x, y=y)\n",
    "        title = f'Graafiek van {x} en {y}'\n",
    "        plt.title(title)\n",
    "        plt.show()\n",
    "        pass"
   ]
  },
  {
   "cell_type": "code",
   "execution_count": 16,
   "metadata": {},
   "outputs": [
    {
     "data": {
      "image/png": "[encoded data removed]",
      "text/plain": [
       "<Figure size 432x288 with 1 Axes>"
      ]
     },
     "metadata": {
      "needs_background": "light"
     },
     "output_type": "display_data"
    },
    {
     "data": {
      "text/plain": [
       "<AxesSubplot:xlabel='BMI', ylabel='Count'>"
      ]
     },
     "execution_count": 16,
     "metadata": {},
     "output_type": "execute_result"
    },
    {
     "data": {
      "image/png": "[encoded data removed]",
      "text/plain": [
       "<Figure size 432x288 with 1 Axes>"
      ]
     },
     "metadata": {
      "needs_background": "light"
     },
     "output_type": "display_data"
    }
   ],
   "source": [
    "# a. Teken een histogram van alle verkopen en ga na of deze normaal verdeeld zijn.\n",
    "histogram(dataset,'BMI')\n",
    "sns.histplot(data=dataset, x='BMI')\n"
   ]
  },
  {
   "cell_type": "code",
   "execution_count": 42,
   "metadata": {},
   "outputs": [
    {
     "name": "stdout",
     "output_type": "stream",
     "text": [
      "0.6883910386965377\n",
      "0.66600790513834\n"
     ]
    },
    {
     "data": {
      "image/png": "[encoded data removed]",
      "text/plain": [
       "<Figure size 640x480 with 1 Axes>"
      ]
     },
     "metadata": {},
     "output_type": "display_data"
    },
    {
     "data": {
      "text/plain": [
       "Text(0.5, 1.0, 'BMI vrouwen')"
      ]
     },
     "execution_count": 42,
     "metadata": {},
     "output_type": "execute_result"
    },
    {
     "data": {
      "image/png": "[encoded data removed]",
      "text/plain": [
       "<Figure size 640x480 with 1 Axes>"
      ]
     },
     "metadata": {},
     "output_type": "display_data"
    }
   ],
   "source": [
    "# b. Herhaal het gevraagde onder vraag b, maar splits op in mannen en vrouwen.. \n",
    "man = dataset['Sex']==\"Male\"\n",
    "vrouw = dataset['Sex']==\"Female\"\n",
    "\n",
    "totaal_mannen = dataset[man]['BMI'].count()\n",
    "totaal_vrouwen = dataset[vrouw]['BMI'].count()\n",
    "\n",
    "avg_man = dataset[man]['BMI'].mean()\n",
    "stdev_man = dataset[man]['BMI'].std()\n",
    "\n",
    "avg_vrouw = dataset[vrouw]['BMI'].mean()\n",
    "stdev_vrouw = dataset[vrouw]['BMI'].std()\n",
    "\n",
    "test = dataset[(dataset['Sex']=='Male')&(dataset['BMI']>avg_man-stdev_man) & (dataset['BMI']<avg_man+stdev_man)]['BMI'].count()\n",
    "print(test/totaal_mannen)\n",
    "\n",
    "test = dataset[(dataset['Sex']=='Female')&(dataset['BMI']>avg_vrouw-stdev_vrouw) & (dataset['BMI']<avg_vrouw+stdev_vrouw)]['BMI'].count()\n",
    "print(test/totaal_vrouwen)\n",
    "\n",
    "sns.histplot(x=dataset[dataset['Sex']==\"Male\"]['BMI'])\n",
    "plt.title('BMI mannen')\n",
    "plt.show()\n",
    "\n",
    "sns.histplot(x=dataset[dataset['Sex']==\"Female\"]['BMI'])\n",
    "plt.title('BMI vrouwen')\n"
   ]
  },
  {
   "cell_type": "code",
   "execution_count": 43,
   "metadata": {},
   "outputs": [],
   "source": [
    "# c. Is er een groot verschil tussen de distributie van het BMI van mannen en deze van vrouwenen? Verklaar ...\n",
    "# nee want deze zijn biede dicht bij de normaal verdeling"
   ]
  },
  {
   "cell_type": "code",
   "execution_count": 44,
   "metadata": {},
   "outputs": [
    {
     "name": "stdout",
     "output_type": "stream",
     "text": [
      "mannen: 0.014256619144602852\n",
      "491\n",
      "vrouwen: 0.011857707509881422\n"
     ]
    }
   ],
   "source": [
    "# d. Hoeveel procent van de mannen in de dataset heeft minstens ernstig overgewicht en hoeveel procent vrouwen in de dataset?\n",
    "#30 - 40\n",
    "x = dataset[(dataset['Sex']=='Male') &(dataset['BMI']>=30)]['BMI'].count()\n",
    "y = dataset[(dataset['Sex']=='Female') &(dataset['BMI']>=30)]['BMI'].count()\n",
    "print(f'mannen: {x/totaal_mannen}')\n",
    "print(totaal_mannen)\n",
    "print(f'vrouwen: {y/totaal_vrouwen}')"
   ]
  },
  {
   "cell_type": "code",
   "execution_count": 45,
   "metadata": {},
   "outputs": [
    {
     "name": "stdout",
     "output_type": "stream",
     "text": [
      "0.01279469338288128\n"
     ]
    },
    {
     "data": {
      "text/plain": [
       "0.019727654931796967"
      ]
     },
     "execution_count": 45,
     "metadata": {},
     "output_type": "execute_result"
    }
   ],
   "source": [
    "# e. Hoeveel procent van de populatie (niet de steekproef) mannen heeft minstens te maken met \n",
    "#    een ernstig overgewicht? En hoeveel procent van de vrouwen?\n",
    "# 30 - 40\n",
    "print(stats.norm.sf(30,avg_man,stdev_man))\n",
    "\n",
    "stats.norm.sf(30,avg_vrouw,stdev_vrouw)"
   ]
  },
  {
   "cell_type": "code",
   "execution_count": 46,
   "metadata": {},
   "outputs": [
    {
     "name": "stdout",
     "output_type": "stream",
     "text": [
      "0.0002222728577422753\n",
      "0.0005391047761283534\n"
     ]
    }
   ],
   "source": [
    "# f. Hoeveel procent van de populatie (niet de steekproef) mannen heeft een ondergewicht? \n",
    "#    En hoeveel procent van de vrouwen? Veronderstel dat de steekproef representatief is voor de populatie. <18,5\n",
    "\n",
    "print(stats.norm.cdf(18.5,avg_man,stdev_man))\n",
    "\n",
    "print(stats.norm.cdf(18.5,avg_vrouw,stdev_vrouw))\n"
   ]
  },
  {
   "cell_type": "code",
   "execution_count": 47,
   "metadata": {},
   "outputs": [
    {
     "name": "stdout",
     "output_type": "stream",
     "text": [
      "3\n"
     ]
    },
    {
     "data": {
      "text/plain": [
       "2"
      ]
     },
     "execution_count": 47,
     "metadata": {},
     "output_type": "execute_result"
    }
   ],
   "source": [
    "# g. Ga na of er uitschieters in de dataset aanwezig zijn. \n",
    "#    Uitschieters kan je hier beschouwen als de BMI gewichten die meer dan 3 standaardafwijkingen\n",
    "#    van het gemiddelde liggen. \n",
    "\n",
    "u_man = dataset[(dataset['Sex']=='Male') & ((dataset['BMI']< (avg_man - 3*stdev_man)))]['BMI'].count() + dataset[(dataset['Sex']=='Male') & ((dataset['BMI']> (avg_man + 3*stdev_man)))]['BMI'].count() \n",
    "print(u_man)\n",
    "\n",
    "u_vrouw = dataset[(dataset['Sex']=='Female') & ((dataset['BMI']< (avg_man - 3*stdev_man)))]['BMI'].count() + dataset[(dataset['Sex']=='Female') & ((dataset['BMI']> (avg_man + 3*stdev_man)))]['BMI'].count() \n",
    "u_vrouw"
   ]
  },
  {
   "cell_type": "markdown",
   "metadata": {},
   "source": [
    "## Vraag 5\n",
    "Een kledingfabrikant wil een nieuwe riem op de markt brengen. Er is een variant voor Malenen en een variant voor Femaleen. Elke variant komt in smal, medium en large.\n",
    "Elk soort riem is qua lengte als volgt verstelbaar:\n",
    "\n",
    "\n",
    "|      Variant       | Mannen| Vrouwen |\n",
    "|------------|-----|---------------|\n",
    "| Smal |  Van 75 cm tot 87 cm|  Van 73 cm tot 85 cm|\n",
    "| Medium | Van 85 cm tot 100 cm| Van 80 cm tot 95 cm|\n",
    "| Large | Van 97 cm tot 110 cm  | Van 90 cm tot 107 cm|\n",
    "\n",
    "\n",
    "Om een inschatting te kunnen maken van de productieaantallen laat de fabrikant een onderzoek uitvoeren naar de heupomtrek bij Malenen en Femaleen. De gegevens kan je terugvinden onder het bestand 'riemen.csv'.\n"
   ]
  },
  {
   "cell_type": "code",
   "execution_count": 55,
   "metadata": {},
   "outputs": [
    {
     "data": {
      "text/html": [
       "<div>\n",
       "<style scoped>\n",
       "    .dataframe tbody tr th:only-of-type {\n",
       "        vertical-align: middle;\n",
       "    }\n",
       "\n",
       "    .dataframe tbody tr th {\n",
       "        vertical-align: top;\n",
       "    }\n",
       "\n",
       "    .dataframe thead th {\n",
       "        text-align: right;\n",
       "    }\n",
       "</style>\n",
       "<table border=\"1\" class=\"dataframe\">\n",
       "  <thead>\n",
       "    <tr style=\"text-align: right;\">\n",
       "      <th></th>\n",
       "      <th>Heupomtrek</th>\n",
       "      <th>Geslacht</th>\n",
       "    </tr>\n",
       "  </thead>\n",
       "  <tbody>\n",
       "    <tr>\n",
       "      <th>0</th>\n",
       "      <td>93.5</td>\n",
       "      <td>M</td>\n",
       "    </tr>\n",
       "    <tr>\n",
       "      <th>1</th>\n",
       "      <td>94.8</td>\n",
       "      <td>M</td>\n",
       "    </tr>\n",
       "    <tr>\n",
       "      <th>2</th>\n",
       "      <td>95.0</td>\n",
       "      <td>M</td>\n",
       "    </tr>\n",
       "    <tr>\n",
       "      <th>3</th>\n",
       "      <td>94.0</td>\n",
       "      <td>M</td>\n",
       "    </tr>\n",
       "    <tr>\n",
       "      <th>4</th>\n",
       "      <td>98.5</td>\n",
       "      <td>M</td>\n",
       "    </tr>\n",
       "  </tbody>\n",
       "</table>\n",
       "</div>"
      ],
      "text/plain": [
       "   Heupomtrek Geslacht\n",
       "0        93.5        M\n",
       "1        94.8        M\n",
       "2        95.0        M\n",
       "3        94.0        M\n",
       "4        98.5        M"
      ]
     },
     "execution_count": 55,
     "metadata": {},
     "output_type": "execute_result"
    }
   ],
   "source": [
    "df = pd.read_csv('riemen.csv')\n",
    "df.head()"
   ]
  },
  {
   "cell_type": "markdown",
   "metadata": {},
   "source": [
    "a. Ga na of deze data normaalverdeeld is. Doe dit door de kansverdeling te plotten en door na te gaan hoeveel procent van de gegevens binnen de 1, 2 en 3 standaardafwijkingen is gelegen. Vergelijk met de werkelijke normaalverdeling die hoort bij het berekende gemiddelde en standaardafwijking.  Doe de analyse ook apart voor mannen en vrouwen."
   ]
  },
  {
   "cell_type": "code",
   "execution_count": 57,
   "metadata": {},
   "outputs": [
    {
     "name": "stdout",
     "output_type": "stream",
     "text": [
      "0.7004048582995951\n",
      "0.6884615384615385\n",
      "0.9635627530364372\n",
      "0.9538461538461539\n",
      "0.9919028340080972\n",
      "0.9961538461538462\n"
     ]
    }
   ],
   "source": [
    "man = df['Geslacht']==\"M\"\n",
    "vrouw = df['Geslacht']==\"V\"\n",
    "\n",
    "totaal_mannen = df[man]['Heupomtrek'].count()\n",
    "totaal_vrouwen = df[vrouw]['Heupomtrek'].count()\n",
    "\n",
    "avg_man = df[(df['Geslacht']=='M')]['Heupomtrek'].mean()\n",
    "stdev_man = df[(df['Geslacht']=='M')]['Heupomtrek'].std()\n",
    "\n",
    "avg_vrouw = df[(df['Geslacht']=='V')]['Heupomtrek'].mean()\n",
    "stdev_vrouw = df[(df['Geslacht']=='V')]['Heupomtrek'].std()\n",
    "\n",
    "test = df[(df['Geslacht']=='M')&(df['Heupomtrek']>avg_man-stdev_man) & (df['Heupomtrek']<avg_man+stdev_man)]['Heupomtrek'].count()\n",
    "print(test/totaal_mannen)\n",
    "\n",
    "test = df[(df['Geslacht']=='V')&(df['Heupomtrek']>avg_vrouw-stdev_vrouw) & (df['Heupomtrek']<avg_vrouw+stdev_vrouw)]['Heupomtrek'].count()\n",
    "print(test/totaal_vrouwen)\n",
    "\n",
    "test = df[(df['Geslacht']=='M')&(df['Heupomtrek']>avg_man-2*stdev_man) & (df['Heupomtrek']<avg_man+2*stdev_man)]['Heupomtrek'].count()\n",
    "print(test/totaal_mannen)\n",
    "\n",
    "test = df[(df['Geslacht']=='V')&(df['Heupomtrek']>avg_vrouw-2*stdev_vrouw) & (df['Heupomtrek']<avg_vrouw+2*stdev_vrouw)]['Heupomtrek'].count()\n",
    "print(test/totaal_vrouwen)\n",
    "\n",
    "test = df[(df['Geslacht']=='M')&(df['Heupomtrek']>avg_man-3*stdev_man) & (df['Heupomtrek']<avg_man+3*stdev_man)]['Heupomtrek'].count()\n",
    "print(test/totaal_mannen)\n",
    "\n",
    "test = df[(df['Geslacht']=='V')&(df['Heupomtrek']>avg_vrouw-3*stdev_vrouw) & (df['Heupomtrek']<avg_vrouw+3*stdev_vrouw)]['Heupomtrek'].count()\n",
    "print(test/totaal_vrouwen)"
   ]
  },
  {
   "cell_type": "markdown",
   "metadata": {},
   "source": [
    "b. Vergelijk de maten van de mannen en de vrouwen in termen van gemiddelde en spreiding."
   ]
  },
  {
   "cell_type": "code",
   "execution_count": 52,
   "metadata": {},
   "outputs": [
    {
     "data": {
      "text/plain": [
       "Text(0.5, 1.0, 'Boxplot Heupomtrek')"
      ]
     },
     "execution_count": 52,
     "metadata": {},
     "output_type": "execute_result"
    },
    {
     "data": {
      "image/png": "[encoded data removed]",
      "text/plain": [
       "<Figure size 640x480 with 1 Axes>"
      ]
     },
     "metadata": {},
     "output_type": "display_data"
    }
   ],
   "source": [
    "sns.boxplot(data=df, y='Heupomtrek',x='Geslacht')\n",
    "plt.title('Boxplot Heupomtrek')"
   ]
  },
  {
   "cell_type": "markdown",
   "metadata": {},
   "source": [
    "c. In de veronderstelling dat de data normaalverdeeld is, bereken telkens **voor de populatie** hoeveel procent van de mannen maat smal, medium en large kan dragen. Doe dit ook voor Vrouwen. Vul daarbij onderstaande tabel aan.\n",
    "\n",
    "|       Variant     | Mannen| Vrouwen |\n",
    "|------------|-----:|---------------:|\n",
    "| Smal |     %|     %|\n",
    "| Medium |     %|     %|\n",
    "| Large |      %|     %|\n",
    "| Smal |  Van 75 cm tot 87 cm|  Van 73 cm tot 85 cm|\n",
    "| Medium | Van 85 cm tot 100 cm| Van 80 cm tot 95 cm|\n",
    "| Large | Van 97 cm tot 110 cm  | Van 90 cm tot 107 cm|"
   ]
  },
  {
   "cell_type": "code",
   "execution_count": 53,
   "metadata": {},
   "outputs": [
    {
     "data": {
      "text/plain": [
       "0.041849660853105916"
      ]
     },
     "execution_count": 53,
     "metadata": {},
     "output_type": "execute_result"
    }
   ],
   "source": [
    "stats.norm.cdf(87,avg_man,stdev_man) - stats.norm.cdf(75,avg_man,stdev_man)"
   ]
  },
  {
   "cell_type": "markdown",
   "metadata": {},
   "source": [
    "d. Bij hoeveel procent van de mannen past zowel smal als medium?"
   ]
  },
  {
   "cell_type": "code",
   "execution_count": 58,
   "metadata": {},
   "outputs": [
    {
     "data": {
      "text/plain": [
       "0.02176212087449228"
      ]
     },
     "execution_count": 58,
     "metadata": {},
     "output_type": "execute_result"
    }
   ],
   "source": [
    "stats.norm.cdf(87,avg_man,stdev_man) - stats.norm.cdf(85,avg_man,stdev_man)"
   ]
  },
  {
   "cell_type": "markdown",
   "metadata": {},
   "source": [
    "e. Bij hoeveel procent van de vrouwen past zowel medium als large?"
   ]
  },
  {
   "cell_type": "code",
   "execution_count": 60,
   "metadata": {},
   "outputs": [
    {
     "data": {
      "text/plain": [
       "0.25483831283542735"
      ]
     },
     "execution_count": 60,
     "metadata": {},
     "output_type": "execute_result"
    }
   ],
   "source": [
    "stats.norm.cdf(95,avg_vrouw,stdev_vrouw) - stats.norm.cdf(90,avg_vrouw,stdev_vrouw)"
   ]
  },
  {
   "cell_type": "markdown",
   "metadata": {},
   "source": [
    "f. Bij hoeveel procent van de mannen past geen enkele maat?"
   ]
  },
  {
   "cell_type": "code",
   "execution_count": 57,
   "metadata": {},
   "outputs": [
    {
     "data": {
      "text/plain": [
       "0.02484746280799034"
      ]
     },
     "execution_count": 57,
     "metadata": {},
     "output_type": "execute_result"
    }
   ],
   "source": [
    "stats.norm.cdf(75,avg_man,stdev_man) + stats.norm.sf(110,avg_man,stdev_man)"
   ]
  },
  {
   "cell_type": "markdown",
   "metadata": {},
   "source": [
    "g. Bij hoeveel procent van de vrouwen past geen enkele maat?"
   ]
  },
  {
   "cell_type": "code",
   "execution_count": 58,
   "metadata": {},
   "outputs": [
    {
     "data": {
      "text/plain": [
       "0.05158610340179882"
      ]
     },
     "execution_count": 58,
     "metadata": {},
     "output_type": "execute_result"
    }
   ],
   "source": [
    "stats.norm.cdf(73,avg_vrouw,stdev_vrouw) + stats.norm.sf(107,avg_vrouw,stdev_vrouw)"
   ]
  }
 ],
 "metadata": {
  "kernelspec": {
   "display_name": "Python 3",
   "language": "python",
   "name": "python3"
  },
  "language_info": {
   "codemirror_mode": {
    "name": "ipython",
    "version": 3
   },
   "file_extension": ".py",
   "mimetype": "text/x-python",
   "name": "python",
   "nbconvert_exporter": "python",
   "pygments_lexer": "ipython3",
   "version": "3.10.6 (v3.10.6:9c7b4bd164, Aug  1 2022, 17:13:48) [Clang 13.0.0 (clang-1300.0.29.30)]"
  },
  "vscode": {
   "interpreter": {
    "hash": "aee8b7b246df8f9039afb4144a1f6fd8d2ca17a180786b69acc140d282b71a49"
   }
  }
 },
 "nbformat": 4,
 "nbformat_minor": 4
}

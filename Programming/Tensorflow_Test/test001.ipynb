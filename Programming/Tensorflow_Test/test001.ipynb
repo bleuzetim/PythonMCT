{
 "cells": [
  {
   "cell_type": "code",
   "execution_count": null,
   "metadata": {},
   "outputs": [],
   "source": []
  },
  {
   "cell_type": "markdown",
   "metadata": {},
   "source": [
    "https://www.youtube.com/watch?v=tpCFfeUEGs8 \n",
    "This is the video ill be using in this ipynb"
   ]
  }
 ],
 "metadata": {
  "kernelspec": {
   "display_name": "Python 3.10.5 64-bit",
   "language": "python",
   "name": "python3"
  },
  "language_info": {
   "name": "python",
   "version": "3.10.5"
  },
  "orig_nbformat": 4,
  "vscode": {
   "interpreter": {
    "hash": "db7bdab18830f72cd6d688d7f2301e82730750c9ca48f290108bf87e773bc17a"
   }
  }
 },
 "nbformat": 4,
 "nbformat_minor": 2
}
